{
 "cells": [
  {
   "cell_type": "markdown",
   "metadata": {},
   "source": [
    "# Scraping Song Lyrics\n",
    "\n",
    "Idea behind this notebook is to figure out a way to scrape song lyrics from www.genius.com using just the song's title and artist names. \n",
    "\n",
    "To do this, I will draw heavily from material in Maaz Khan's post \"How to Leverage Spotify API + Genius Lyrics for Data Science Tasks in Python\" (https://medium.com/swlh/how-to-leverage-spotify-api-genius-lyrics-for-data-science-tasks-in-python-c36cdfb55cf3). I will also take elements from Nick Pai's `scrape_song_lyrics` function from his blog post https://medium.com/analytics-vidhya/how-to-scrape-song-lyrics-a-gentle-python-tutorial-5b1d4ab351d2.\n",
    "\n",
    "### Getting the packages ready\n",
    "\n",
    "For this, I am planning on using `BeautifulSoup` to scrape lyrics as well as the packages `os` and `re` to manipulate the strings in the lyrics scraped from the web."
   ]
  },
  {
   "cell_type": "code",
   "execution_count": 1,
   "metadata": {},
   "outputs": [],
   "source": [
    "from bs4 import BeautifulSoup\n",
    "from urllib.request import urlopen, Request\n",
    "import requests\n",
    "import os\n",
    "import re"
   ]
  },
  {
   "cell_type": "markdown",
   "metadata": {},
   "source": [
    "### Taking a look at the Genius Website\n",
    "\n",
    "Before we get around to making a function, let's first take a look at an example. For this, we will try to scrape the lyrics for The Weeknd's hit \"Blinding Lights\", which held the Number 1 song spot on the Billboard Hot 100's list for the year end 2020 (https://www.billboard.com/charts/year-end/2020/hot-100-songs).\n",
    "\n",
    "Genius has a very straightforward way of being able to get to a particular song's lyrics. The url is usually\n",
    "`https://genius.com/ + artist_name + '-' + title_name + '-lyrics`, where any spaces are replaced by '-'. In this instance it is\n",
    "https://genius.com/The-Weeknd-Blinding-Lights-lyrics\n",
    "\n",
    "Let's try to use BeautifulSoup to load the html for this page."
   ]
  },
  {
   "cell_type": "code",
   "execution_count": 2,
   "metadata": {},
   "outputs": [],
   "source": [
    "url = 'https://genius.com/The-Weeknd-Blinding-Lights-lyrics'\n",
    "header = {'user-agent':'Mozilla/5.0 (Windows NT 10.0; Win64; x64) AppleWebKit/537.36 (KHTML, like Gecko) Chrome/90.0.4430.212 Safari/537.36'}\n",
    "req = Request(url, headers = header)\n",
    "html = urlopen(req)\n",
    "soup = BeautifulSoup(html, 'html.parser')"
   ]
  },
  {
   "cell_type": "markdown",
   "metadata": {},
   "source": [
    "Note that I have to use an additional argument `header`. This, to my knowledge, fools the server into thinking that an actual PC is trying to access to website (if we didn't use this argument, we'd get an error). Apparently, some websites have safeguards that prevent bots from crawling their servers so we need to bypass this. Now let's see what the html code looks like."
   ]
  },
  {
   "cell_type": "code",
   "execution_count": 3,
   "metadata": {
    "scrolled": true,
    "tags": []
   },
   "outputs": [
    {
     "data": {
      "text/plain": [
       "'<body class=\"act-show cont-songs snarly\">\\n <preload ng-non-bindable=\"\">\\n  <preload-content data-preload_data=\\'{\"iq_by_event_type\":{\"accepted_a_lyrics_edit\":3.0,\"annotation_downvote_by_contrib\":-1.0,\"annotation_downvote_by_default\":-1.0,\"annotation_downvote_by_editor\":-1.0,\"annotation_downvote_by_high_iq_user\":-1.0,\"annotation_downvote_by_moderator\":-1.0,\"annotation_upvote_by_contrib\":4.0,\"annotation_upvote_by_default\":2.0,\"annotation_upvote_by_editor\":6.0,\"annotation_upvote_by_high_iq_user\":4.0,\"annotation_upvote_by_moderator\":10.0,\"answer_downvote_by_contrib\":-1.0,\"answer_downvote_by_default\":-1.0,\"answer_downvote_by_editor\":-1.0,\"answer_downvote_by_high_iq_user\":-1.0,\"answer_downvote_by_moderator\":-1.0,\"answered_a_question\":5.0,\"answered_a_question_meme\":25.0,\"answered_a_question_verified\":10.0,\"answer_upvote_by_contrib\":4.0,\"answer_upvote_by_default\":2.0,\"answer_upvote_by_editor\":6.0,\"answer_upvote_by_high_iq_user\":4.0,\"answer_upvote_by_moderator\":10.0,\"archived_a_question\":1.0,\"article_downvote\":-1.0,\"article_upvote\":1.0,\"asked_a_question\":1.0,\"auto_accepted_explanation\":15.0,\"comment_downvote\":-0.5,\"comment_upvote\":0.5,\"created_a_lyrics_edit\":2.0,\"created_a_real_song\":40.0,\"created_a_song\":5.0,\"forum_post_downvote\":-0.5,\"forum_post_upvote\":0.5,\"historical_you_published_a_song\":60.0,\"metadata_update_or_addition\":2.0,\"pending_explanation\":5.0,\"pinned_a_question_not_your_own\":2.0,\"question_downvote\":-2.0,\"question_upvote\":2.0,\"rejected_a_lyrics_edit\":2.0,\"song_metadata_update_or_addition\":2.0,\"song_pageviews_1000\":25.0,\"song_pageviews_10000\":50.0,\"song_pageviews_100000\":125.0,\"song_pageviews_1000000\":500.0,\"song_pageviews_2500\":30.0,\"song_pageviews_25000\":75.0,\"song_pageviews_250000\":150.0,\"song_pageviews_2500000\":1000.0,\"song_pageviews_500\":20.0,\"song_pageviews_5000\":35.0,\"song_pageviews_50000\":100.0,\"song_pageviews_500000\":200.0,\"song_pageviews_5000000\":2000.0,\"suggestion_downvote_by_contrib\":-1.0,\"suggestion_downvote_by_default\":-0.5,\"suggestion_downvote_by_editor\":-1.0,\"suggestion_downvote_by_high_iq_user\":-1.0,\"suggestion_downvote_by_moderator\":-1.0,\"suggestion_upvote_by_contrib\":2.0,\"suggestion_upvote_by_default\":1.0,\"suggestion_upvote_by_editor\":3.0,\"suggestion_upvote_by_high_iq_user\":2.0,\"suggestion_upvote_by_moderator\":4.0,\"verified_explanation_by_meme\":100.0,\"verified_explanation_by_non_meme\":15.0,\"verified_lyrics_by_meme_featured\":50.0,\"verified_lyrics_by_meme_primary\":75.0,\"verified_lyrics_by_meme_writer\":75.0,\"verified_lyrics_by_non_meme_featured\":10.0,\"verified_lyrics_by_non_meme_primary\":15.0,\"verified_lyrics_by_non_meme_writer\":15.0,\"you_accepted_a_comment\":6.0,\"you_accepted_an_annotation\":10.0,\"you_added_a_photo\":100.0,\"you_archived_a_comment\":2.0,\"you_deleted_an_annotation\":5.0,\"you_incorporated_an_annotation\":5.0,\"you_integrated_a_comment\":2.0,\"you_linked_an_identity\":100.0,\"you_merged_an_annotation_edit\":4.0,\"you_published_a_song\":5.0,\"your_annotation_accepted\":10.0,\"your_annotation_edit_merged\":5.0,\"your_annotation_edit_rejected\":-0.5,\"your_annotation_incorporated\":15.0,\"your_annotation_rejected\":0.0,\"your_annotation_was_cosigned_by_community_verified\":2.0,\"your_annotation_was_cosigned_by_meme\":50.0,\"your_annotation_was_cosigned_by_verified_verified\":20.0,\"your_answer_cleared\":-5.0,\"your_answer_pinned\":5.0,\"your_comment_accepted\":2.0,\"your_comment_archived\":0.0,\"your_comment_integrated\":2.0,\"your_comment_rejected\":-0.5,\"you_rejected_a_comment\":2.0,\"you_rejected_an_annotation\":2.0,\"you_rejected_an_annotation_edit\":2.0,\"your_lyrics_edit_accepted\":3.0,\"your_lyrics_edit_rejected\":-2.0,\"your_question_answered\":4.0,\"your_question_archived\":-1.0,\"your_question_pinned\":5.0}}\\'>\\n  </preload-content>\\n </preload>\\n <marquee-ad name=\"desktop_song_marquee\">\\n </marquee-ad>\\n <div class=\"header\" click-outside=\"close_mobile_subnav_menu()\" ng-controller=\"HeaderCtrl as header_ctrl\">\\n  <global-message ng-cloak=\"\" ng-if=\"header_ctrl.cloudflare_error\">\\n   {{:: \\'cloud_flare_always_on_short_message\\' | i18n }}\\n   <br/>\\n   Check\\n   <a href=\"https://twitter.com/genius\" target=\"_blank\">\\n    @genius\\n   </a>\\n   for updates. We\\'ll have things fixed soon.\\n  </global-message>\\n  <div class=\"header-primary active\">\\n   <div class=\"header-expand_nav_menu\" ng-click=\"toggle_mobile_subnav_menu()\">\\n    <div class=\"header-expand_nav_menu-contents\">\\n    </div>\\n   </div>\\n   <div class=\"logo_container\">\\n    <a class=\"logo_link\" href=\"https://genius.com/\">\\n     GENIUS\\n    </a>\\n   </div>\\n   <header-actions>\\n   </header-actions>\\n  </div>\\n  <search-form search-style=\"header\">\\n  </search-form>\\n  <ul class=\"header-nav_menu\" ng-class=\"{\\'header-nav_menu--visible\\': mobile_subnav_menu_open}\">\\n   <div ng-cloak=\"\">\\n    <header-menu-item class=\"header-nav_menu--hide_when_expand_menu_is_not_available\" name=\"Home\" url=\"https://genius.com/\">\\n    </header-menu-item>\\n    <header-menu-item name=\"Genius Live\" url=\"https://live.genius.com\">\\n    </header-menu-item>\\n    <span class=\"nav_menu-item nav_menu-item--separator\">\\n     |\\n    </span>\\n    <header-menu-item name=\"Featured\" url=\"https://genius.com/#featured-stories\">\\n    </header-menu-item>\\n    <header-menu-item name=\"Charts\" url=\"https://genius.com/#top-songs\">\\n    </header-menu-item>\\n    <header-menu-item name=\"Videos\" url=\"https://genius.com/#videos\">\\n    </header-menu-item>\\n    <header-menu-item name=\"Community\" url=\"https://genius.com/#community\">\\n    </header-menu-item>\\n    <span class=\"nav_menu-item nav_menu-item--separator\">\\n     |\\n    </span>\\n    <header-menu-item name=\"Shop\" url=\"https://shop.genius.com/\">\\n    </header-menu-item>\\n    <span class=\"nav_menu-item nav_menu-item--separator\">\\n     |\\n    </span>\\n    <li class=\"nav_menu-item\">\\n     <a class=\"nav_menu-link nav_menu-link--facebook\" href=\"https://www.facebook.com/Genius/\" target=\"_blank\">\\n      <svg class=\"inline_icon\" src=\"facebook.svg\">\\n      </svg>\\n      <span class=\"nav_menu-link-social_text\">\\n       Facebook\\n      </span>\\n     </a>\\n    </li>\\n    <li class=\"nav_menu-item\">\\n     <a class=\"nav_menu-link\" href=\"https://twitter.com/Genius\" target=\"_blank\">\\n      <svg class=\"inline_icon\" src=\"twitter.svg\">\\n      </svg>\\n      <span class=\"nav_menu-link-social_text\">\\n       Twitter\\n      </span>\\n     </a>\\n    </li>\\n    <li class=\"nav_menu-item\">\\n     <a class=\"nav_menu-link\" href=\"https://www.instagram.com/genius/\" target=\"_blank\">\\n      <svg class=\"inline_icon\" src=\"instagram.svg\">\\n      </svg>\\n      <span class=\"nav_menu-link-social_text\">\\n       Instagram\\n      </span>\\n     </a>\\n    </li>\\n    <li class=\"nav_menu-item\">\\n     <a class=\"nav_menu-link nav_menu-link--no_right_padding\" href=\"https://www.youtube.com/genius\" target=\"_blank\">\\n      <svg class=\"inline_icon nav_menu-link-youtube_icon\" src=\"youtube.svg\">\\n      </svg>\\n      <span class=\"nav_menu-link-social_text\">\\n       Youtube\\n      </span>\\n     </a>\\n    </li>\\n   </div>\\n  </ul>\\n </div>\\n <solidarity-banner>\\n </solidarity-banner>\\n <div class=\"global_messages\">\\n  <flash-messages>\\n  </flash-messages>\\n </div>\\n <script type=\"application/ld+json\">\\n  {\"@context\":\"http://schema.org\",\"@type\":\"MusicRecording\",\"byArtist\":{\"@context\":\"http://schema.org\",\"@type\":\"MusicGroup\",\"name\":\"The Weeknd\",\"url\":\"https://genius.com/artists/The-weeknd\",\"description\":\"Abel Makkonen Tesfaye (born February 16, 1990 in Scarborough, Ontario), popularly known as The Weeknd, is an R&B/pop/hip-hop singer-songwriter and record producer from Toronto\",\"image\":\"https://images.genius.com/f0813e600d43b8b43c94e8ba1dde880a.640x640x1.png\"},\"image\":\"https://images.genius.com/81fbce075be16974b07468b71333f99e.1000x1000x1.jpg\",\"inAlbum\":[{\"@context\":\"http://schema.org\",\"@type\":\"MusicAlbum\",\"byArtist\":{\"@context\":\"http://schema.org\",\"@type\":\"MusicGroup\",\"name\":\"The Weeknd\",\"url\":\"https://genius.com/artists/The-weeknd\",\"description\":\"Abel Makkonen Tesfaye (born February 16, 1990 in Scarborough, Ontario), popularly known as The Weeknd, is an R&B/pop/hip-hop singer-songwriter and record producer from Toronto\",\"image\":\"https://images.genius.com/f0813e600d43b8b43c94e8ba1dde880a.640x640x1.png\"},\"image\":\"https://images.genius.com/9d35a5dff10090e6c1d5e077932cea99.1000x1000x1.jpg\",\"name\":\"After Hours\",\"url\":\"https://genius.com/albums/The-weeknd/After-hours\",\"datePublished\":\"2020-03-20\",\"numTracks\":14},{\"@context\":\"http://schema.org\",\"@type\":\"MusicAlbum\",\"byArtist\":{\"@context\":\"http://schema.org\",\"@type\":\"MusicGroup\",\"name\":\"The Weeknd\",\"url\":\"https://genius.com/artists/The-weeknd\",\"description\":\"Abel Makkonen Tesfaye (born February 16, 1990 in Scarborough, Ontario), popularly known as The Weeknd, is an R&B/pop/hip-hop singer-songwriter and record producer from Toronto\",\"image\":\"https://images.genius.com/f0813e600d43b8b43c94e8ba1dde880a.640x640x1.png\"},\"image\":\"https://images.genius.com/4455a314edfff1a63c30f03d9d135c64.1000x1000x1.jpg\",\"name\":\"After Hours (Deluxe)\",\"url\":\"https://genius.com/albums/The-weeknd/After-hours-deluxe\",\"datePublished\":\"2020-03-30\",\"numTracks\":17},{\"@context\":\"http://schema.org\",\"@type\":\"MusicAlbum\",\"byArtist\":{\"@context\":\"http://schema.org\",\"@type\":\"MusicGroup\",\"name\":\"NOW That\\'s What I Call Music!\",\"url\":\"https://genius.com/artists/Now-thats-what-i-call-music\",\"description\":\"“NOW That’s What I Call Music” is a series of compilation albums showcasing the latest in popular songs released by various artists.\\\\n\\\\nNOW distributes a different series of\",\"image\":\"https://images.genius.com/2ad71039250d907203f1e0c96d3996e6.959x959x1.jpg\"},\"image\":\"https://images.genius.com/4ffc66adff409db50986f3895503ac63.1000x1000x1.jpg\",\"name\":\"NOW That’s What I Call Music! 105 [UK]\",\"url\":\"https://genius.com/albums/Now-thats-what-i-call-music/Now-thats-what-i-call-music-105-uk\",\"datePublished\":\"2020-05-08\",\"numTracks\":46},{\"@context\":\"http://schema.org\",\"@type\":\"MusicAlbum\",\"byArtist\":{\"@context\":\"http://schema.org\",\"@type\":\"MusicGroup\",\"name\":\"NOW That\\'s What I Call Music!\",\"url\":\"https://genius.com/artists/Now-thats-what-i-call-music\",\"description\":\"“NOW That’s What I Call Music” is a series of compilation albums showcasing the latest in popular songs released by various artists.\\\\n\\\\nNOW distributes a different series of\",\"image\":\"https://images.genius.com/2ad71039250d907203f1e0c96d3996e6.959x959x1.jpg\"},\"image\":\"https://images.genius.com/1454c09a6ffb2f43e205fc679f043860.500x500x1.jpg\",\"name\":\"NOW That’s What I Call Music! 74 [US]\",\"url\":\"https://genius.com/albums/Now-thats-what-i-call-music/Now-thats-what-i-call-music-74-us\",\"datePublished\":\"2020-05-01\",\"numTracks\":21},{\"@context\":\"http://schema.org\",\"@type\":\"MusicAlbum\",\"byArtist\":{\"@context\":\"http://schema.org\",\"@type\":\"MusicGroup\",\"name\":\"2K Sports\",\"url\":\"https://genius.com/artists/2k-sports\",\"description\":\"Leading basketball simulation video game developed by Visual Concepts and published by 2K Sports. It is the 19th installment in the NBA 2K franchise and the successor to NBA 2K17.\",\"image\":\"https://images.genius.com/4dbcbd84fb3f161b7163558413deb66f.512x512x1.jpg\"},\"image\":\"https://images.genius.com/4125efd6f2f185fe8f35c04ca4f9c2df.948x948x1.png\",\"name\":\"NBA 2K21 Current Gen Soundtrack\",\"url\":\"https://genius.com/albums/2k-sports/Nba-2k21-current-gen-soundtrack\",\"datePublished\":\"2020-09-04\",\"numTracks\":52},{\"@context\":\"http://schema.org\",\"@type\":\"MusicAlbum\",\"byArtist\":{\"@context\":\"http://schema.org\",\"@type\":\"MusicGroup\",\"name\":\"Ubisoft\",\"url\":\"https://genius.com/artists/Ubisoft\",\"description\":\"a production company for games such as just dance and other popular games.\",\"image\":\"https://images.genius.com/181cb591f431282955f339507e48bf25.321x321x1.png\"},\"image\":\"https://images.genius.com/3f10829261aca97d5108ea5e6955bece.1000x1000x1.png\",\"name\":\"Just Dance 2021 Official Tracklist\",\"url\":\"https://genius.com/albums/Ubisoft/Just-dance-2021-official-tracklist\",\"datePublished\":\"2020-11-12\",\"numTracks\":62},{\"@context\":\"http://schema.org\",\"@type\":\"MusicAlbum\",\"byArtist\":{\"@context\":\"http://schema.org\",\"@type\":\"MusicGroup\",\"name\":\"The Weeknd\",\"url\":\"https://genius.com/artists/The-weeknd\",\"description\":\"Abel Makkonen Tesfaye (born February 16, 1990 in Scarborough, Ontario), popularly known as The Weeknd, is an R&B/pop/hip-hop singer-songwriter and record producer from Toronto\",\"image\":\"https://images.genius.com/f0813e600d43b8b43c94e8ba1dde880a.640x640x1.png\"},\"image\":\"https://images.genius.com/1c207656d6c9830fa0d37e60b311f1da.1000x1000x1.jpg\",\"name\":\"Blinding Lights\",\"url\":\"https://genius.com/albums/The-weeknd/Blinding-lights\",\"datePublished\":\"2020-09-12\",\"numTracks\":4},{\"@context\":\"http://schema.org\",\"@type\":\"MusicAlbum\",\"byArtist\":{\"@context\":\"http://schema.org\",\"@type\":\"MusicGroup\",\"name\":\"The Weeknd\",\"url\":\"https://genius.com/artists/The-weeknd\",\"description\":\"Abel Makkonen Tesfaye (born February 16, 1990 in Scarborough, Ontario), popularly known as The Weeknd, is an R&B/pop/hip-hop singer-songwriter and record producer from Toronto\",\"image\":\"https://images.genius.com/f0813e600d43b8b43c94e8ba1dde880a.640x640x1.png\"},\"image\":\"https://images.genius.com/179c178e2314fff9609b47dad5b9d8c8.1000x1000x1.jpg\",\"name\":\"The Highlights\",\"url\":\"https://genius.com/albums/The-weeknd/The-highlights\",\"datePublished\":\"2021-02-05\",\"numTracks\":18},{\"@context\":\"http://schema.org\",\"@type\":\"MusicAlbum\",\"byArtist\":{\"@context\":\"http://schema.org\",\"@type\":\"MusicGroup\",\"name\":\"Memepocalypse Now\",\"url\":\"https://genius.com/artists/Memepocalypse-now\",\"description\":\"An original literature franchise created by Charles E. Sims. More information can be found here: https://www.youtube.com/watch?v=UYF-E6iO9hI\",\"image\":\"https://images.genius.com/fa031a15df2a794477ef1e5cec136afc.587x587x1.jpg\"},\"image\":\"https://images.genius.com/ef5639170ee47e4413d2b5c3147313a1.592x592x1.jpg\",\"name\":\"Memepocalypse Now: Part 1 - Complete Soundtrack\",\"url\":\"https://genius.com/albums/Memepocalypse-now/Memepocalypse-now-part-1-complete-soundtrack\",\"datePublished\":\"2021-01-20\",\"numTracks\":26}],\"name\":\"Blinding Lights\",\"url\":\"https://genius.com/The-weeknd-blinding-lights-lyrics\",\"datePublished\":\"2019-11-29\"}\\n </script>\\n <routable-page>\\n  <ng-non-bindable>\\n   <div class=\"leaderboard_ad_container\">\\n   </div>\\n   <div class=\"header_with_cover_art\">\\n    <div class=\"header_with_cover_art-inner column_layout\">\\n     <div class=\"column_layout-column_span column_layout-column_span--primary\">\\n      <div class=\"header_with_cover_art-cover_art\">\\n       <div class=\"cover_art\">\\n        <img alt=\"Https%3a%2f%2fimages\" class=\"cover_art-image\" src=\"https://t2.genius.com/unsafe/220x220/https%3A%2F%2Fimages.genius.com%2F22ca9d47b12db20bbfc88da431fba87b.1000x1000x1.png\" srcset=\"https://t2.genius.com/unsafe/440x440/https%3A%2F%2Fimages.genius.com%2F22ca9d47b12db20bbfc88da431fba87b.1000x1000x1.png 2x\"/>\\n       </div>\\n      </div>\\n      <div class=\"header_with_cover_art-primary_info_container\">\\n       <div class=\"header_with_cover_art-primary_info\">\\n        <h1 class=\"header_with_cover_art-primary_info-title\">\\n         Blinding Lights\\n        </h1>\\n        <h2>\\n         <a class=\"header_with_cover_art-primary_info-primary_artist\" href=\"https://genius.com/artists/The-weeknd\">\\n          The Weeknd\\n         </a>\\n        </h2>\\n        <h3>\\n        </h3>\\n        <h3>\\n         <div class=\"metadata_unit\">\\n          <span class=\"metadata_unit-label\">\\n           Produced by\\n          </span>\\n          <span class=\"metadata_unit-info\">\\n           <a href=\"https://genius.com/artists/Oscar-holter\">\\n            Oscar Holter\\n           </a>\\n           ,\\n           <a href=\"https://genius.com/artists/Max-martin\">\\n            Max Martin\\n           </a>\\n           &amp;\\n           <a href=\"https://genius.com/artists/The-weeknd\">\\n            The Weeknd\\n           </a>\\n          </span>\\n         </div>\\n        </h3>\\n        <h3>\\n         <div class=\"metadata_unit\">\\n          <span class=\"metadata_unit-label\">\\n           Album\\n          </span>\\n          <span class=\"metadata_unit-info\">\\n           <a href=\"https://genius.com/albums/The-weeknd/After-hours\">\\n            After Hours\\n           </a>\\n          </span>\\n         </div>\\n        </h3>\\n       </div>\\n      </div>\\n     </div>\\n     <div class=\"column_layout-column_span column_layout-column_span--secondary u-top_margin\">\\n     </div>\\n    </div>\\n   </div>\\n   <div class=\"song_body column_layout\" initial-content-for=\"song_body\">\\n    <div class=\"column_layout-column_span column_layout-column_span--primary\">\\n     <div class=\"song_body-lyrics\">\\n      <h2 class=\"text_label text_label--gray text_label--x_small_text_size u-top_margin\">\\n       Blinding Lights Lyrics\\n      </h2>\\n      <div initial-content-for=\"lyrics\">\\n       <div class=\"lyrics\">\\n        <!--sse-->\\n        <p>\\n         [Intro]\\n         <br/>\\n         Yeah\\n         <br/>\\n         <br/>\\n         [Verse 1]\\n         <br/>\\n         <a annotation-fragment=\"18550610\" class=\"referent\" classification=\"accepted\" data-id=\"18550610\" href=\"/The-weeknd-blinding-lights-lyrics#note-18550610\" image=\"false\" ng-class=\"{\\n          \\'referent--linked_to_preview\\': song_ctrl.referent_has_preview(fragment_id),\\n          \\'referent--linked_to_preview_active\\': song_ctrl.highlight_preview_referent(fragment_element_id),\\n          \\'referent--purple_indicator\\': song_ctrl.show_preview_referent_indicator(fragment_element_id)\\n        }\" ng-click=\"open()\" on-hover-with-no-digest=\"set_current_hover_and_digest(hover ? fragment_id : undefined)\" pending-editorial-actions-count=\"0\" prevent-default-click=\"\">\\n          I\\'ve been tryna call\\n         </a>\\n         <br/>\\n         <a annotation-fragment=\"18547744\" class=\"referent\" classification=\"accepted\" data-id=\"18547744\" href=\"/The-weeknd-blinding-lights-lyrics#note-18547744\" image=\"false\" ng-class=\"{\\n          \\'referent--linked_to_preview\\': song_ctrl.referent_has_preview(fragment_id),\\n          \\'referent--linked_to_preview_active\\': song_ctrl.highlight_preview_referent(fragment_element_id),\\n          \\'referent--purple_indicator\\': song_ctrl.show_preview_referent_indicator(fragment_element_id)\\n        }\" ng-click=\"open()\" on-hover-with-no-digest=\"set_current_hover_and_digest(hover ? fragment_id : undefined)\" pending-editorial-actions-count=\"0\" prevent-default-click=\"\">\\n          I\\'ve been on my own for long enough\\n         </a>\\n         <br/>\\n         Maybe you can show me\\u2005how\\u2005to love, maybe\\n         <br/>\\n         <a annotation-fragment=\"18601361\" class=\"referent\" classification=\"accepted\" data-id=\"18601361\" href=\"/The-weeknd-blinding-lights-lyrics#note-18601361\" image=\"false\" ng-class=\"{\\n          \\'referent--linked_to_preview\\': song_ctrl.referent_has_preview(fragment_id),\\n          \\'referent--linked_to_preview_active\\': song_ctrl.highlight_preview_referent(fragment_element_id),\\n          \\'referent--purple_indicator\\': song_ctrl.show_preview_referent_indicator(fragment_element_id)\\n        }\" ng-click=\"open()\" on-hover-with-no-digest=\"set_current_hover_and_digest(hover ? fragment_id : undefined)\" pending-editorial-actions-count=\"0\" prevent-default-click=\"\">\\n          I\\'m\\u2005going through withdrawals\\n         </a>\\n         <br/>\\n         You don\\'t even have\\u2005to do too much\\n         <br/>\\n         <a annotation-fragment=\"21385817\" class=\"referent\" classification=\"accepted\" data-id=\"21385817\" href=\"/The-weeknd-blinding-lights-lyrics#note-21385817\" image=\"false\" ng-class=\"{\\n          \\'referent--linked_to_preview\\': song_ctrl.referent_has_preview(fragment_id),\\n          \\'referent--linked_to_preview_active\\': song_ctrl.highlight_preview_referent(fragment_element_id),\\n          \\'referent--purple_indicator\\': song_ctrl.show_preview_referent_indicator(fragment_element_id)\\n        }\" ng-click=\"open()\" on-hover-with-no-digest=\"set_current_hover_and_digest(hover ? fragment_id : undefined)\" pending-editorial-actions-count=\"0\" prevent-default-click=\"\">\\n          You can turn me on with just a touch, baby\\n         </a>\\n         <br/>\\n         <br/>\\n         [Pre-Chorus]\\n         <br/>\\n         <a annotation-fragment=\"18546920\" class=\"referent\" classification=\"accepted\" data-id=\"18546920\" href=\"/The-weeknd-blinding-lights-lyrics#note-18546920\" image=\"false\" ng-class=\"{\\n          \\'referent--linked_to_preview\\': song_ctrl.referent_has_preview(fragment_id),\\n          \\'referent--linked_to_preview_active\\': song_ctrl.highlight_preview_referent(fragment_element_id),\\n          \\'referent--purple_indicator\\': song_ctrl.show_preview_referent_indicator(fragment_element_id)\\n        }\" ng-click=\"open()\" on-hover-with-no-digest=\"set_current_hover_and_digest(hover ? fragment_id : undefined)\" pending-editorial-actions-count=\"0\" prevent-default-click=\"\">\\n          I look around and\\n          <br/>\\n          Sin City\\'s cold and empty (Oh)\\n          <br/>\\n          No one\\'s around to judge me (Oh)\\n          <br/>\\n          I can\\'t see clearly when you\\'re gone\\n         </a>\\n         <br/>\\n         <br/>\\n         [Chorus]\\n         <br/>\\n         <a annotation-fragment=\"18547785\" class=\"referent\" classification=\"accepted\" data-id=\"18547785\" href=\"/The-weeknd-blinding-lights-lyrics#note-18547785\" image=\"false\" ng-class=\"{\\n          \\'referent--linked_to_preview\\': song_ctrl.referent_has_preview(fragment_id),\\n          \\'referent--linked_to_preview_active\\': song_ctrl.highlight_preview_referent(fragment_element_id),\\n          \\'referent--purple_indicator\\': song_ctrl.show_preview_referent_indicator(fragment_element_id)\\n        }\" ng-click=\"open()\" on-hover-with-no-digest=\"set_current_hover_and_digest(hover ? fragment_id : undefined)\" pending-editorial-actions-count=\"0\" prevent-default-click=\"\">\\n          I said, ooh, I\\'m blinded by the lights\\n          <br/>\\n          No, I can\\'t sleep until I feel your touch\\n          <br/>\\n          I said, ooh, I\\'m drowning in the night\\n          <br/>\\n          Oh, when I\\'m like this, you\\'re the one I trust\\n          <br/>\\n          Hey, hey, hey\\n         </a>\\n         <br/>\\n         <br/>\\n         [Verse 2]\\n         <br/>\\n         <a annotation-fragment=\"20073041\" class=\"referent\" classification=\"accepted\" data-id=\"20073041\" href=\"/The-weeknd-blinding-lights-lyrics#note-20073041\" image=\"false\" ng-class=\"{\\n          \\'referent--linked_to_preview\\': song_ctrl.referent_has_preview(fragment_id),\\n          \\'referent--linked_to_preview_active\\': song_ctrl.highlight_preview_referent(fragment_element_id),\\n          \\'referent--purple_indicator\\': song_ctrl.show_preview_referent_indicator(fragment_element_id)\\n        }\" ng-click=\"open()\" on-hover-with-no-digest=\"set_current_hover_and_digest(hover ? fragment_id : undefined)\" pending-editorial-actions-count=\"0\" prevent-default-click=\"\">\\n          I\\'m running out of time\\n          <br/>\\n          \\'Cause I can see the sun light up the sky\\n         </a>\\n         <br/>\\n         <a annotation-fragment=\"18551526\" class=\"referent\" classification=\"accepted\" data-id=\"18551526\" href=\"/The-weeknd-blinding-lights-lyrics#note-18551526\" image=\"false\" ng-class=\"{\\n          \\'referent--linked_to_preview\\': song_ctrl.referent_has_preview(fragment_id),\\n          \\'referent--linked_to_preview_active\\': song_ctrl.highlight_preview_referent(fragment_element_id),\\n          \\'referent--purple_indicator\\': song_ctrl.show_preview_referent_indicator(fragment_element_id)\\n        }\" ng-click=\"open()\" on-hover-with-no-digest=\"set_current_hover_and_digest(hover ? fragment_id : undefined)\" pending-editorial-actions-count=\"0\" prevent-default-click=\"\">\\n          So I hit the road in overdrive, baby, oh\\n         </a>\\n         <br/>\\n         <br/>\\n         [Pre-Chorus]\\n         <br/>\\n         <a annotation-fragment=\"18546920\" class=\"referent\" classification=\"accepted\" data-id=\"18546920\" href=\"/The-weeknd-blinding-lights-lyrics#note-18546920\" image=\"false\" ng-class=\"{\\n          \\'referent--linked_to_preview\\': song_ctrl.referent_has_preview(fragment_id),\\n          \\'referent--linked_to_preview_active\\': song_ctrl.highlight_preview_referent(fragment_element_id),\\n          \\'referent--purple_indicator\\': song_ctrl.show_preview_referent_indicator(fragment_element_id)\\n        }\" ng-click=\"open()\" on-hover-with-no-digest=\"set_current_hover_and_digest(hover ? fragment_id : undefined)\" pending-editorial-actions-count=\"0\" prevent-default-click=\"\">\\n          The city\\'s cold and empty (Oh)\\n          <br/>\\n          No one\\'s around to judge me (Oh)\\n          <br/>\\n          I can\\'t see clearly when you\\'re gone\\n         </a>\\n         <br/>\\n         <br/>\\n         [Chorus]\\n         <br/>\\n         <a annotation-fragment=\"18547785\" class=\"referent\" classification=\"accepted\" data-id=\"18547785\" href=\"/The-weeknd-blinding-lights-lyrics#note-18547785\" image=\"false\" ng-class=\"{\\n          \\'referent--linked_to_preview\\': song_ctrl.referent_has_preview(fragment_id),\\n          \\'referent--linked_to_preview_active\\': song_ctrl.highlight_preview_referent(fragment_element_id),\\n          \\'referent--purple_indicator\\': song_ctrl.show_preview_referent_indicator(fragment_element_id)\\n        }\" ng-click=\"open()\" on-hover-with-no-digest=\"set_current_hover_and_digest(hover ? fragment_id : undefined)\" pending-editorial-actions-count=\"0\" prevent-default-click=\"\">\\n          I said, ooh, I\\'m blinded by the lights\\n          <br/>\\n          No, I can\\'t sleep until I feel your touch\\n          <br/>\\n          I said, ooh, I\\'m drowning in the night\\n          <br/>\\n          Oh, when I\\'m like this, you\\'re the one I trust\\n         </a>\\n         <br/>\\n         <br/>\\n         [Bridge]\\n         <br/>\\n         <a annotation-fragment=\"18546881\" class=\"referent\" classification=\"accepted\" data-id=\"18546881\" href=\"/The-weeknd-blinding-lights-lyrics#note-18546881\" image=\"false\" ng-class=\"{\\n          \\'referent--linked_to_preview\\': song_ctrl.referent_has_preview(fragment_id),\\n          \\'referent--linked_to_preview_active\\': song_ctrl.highlight_preview_referent(fragment_element_id),\\n          \\'referent--purple_indicator\\': song_ctrl.show_preview_referent_indicator(fragment_element_id)\\n        }\" ng-click=\"open()\" on-hover-with-no-digest=\"set_current_hover_and_digest(hover ? fragment_id : undefined)\" pending-editorial-actions-count=\"1\" prevent-default-click=\"\">\\n          I\\'m just calling back to let you know (Back to let you know)\\n          <br/>\\n          I could never say it on the phone (Say it on the phone)\\n          <br/>\\n          Will never let you go this time (Ooh)\\n         </a>\\n         <br/>\\n         <br/>\\n         [Chorus]\\n         <br/>\\n         <a annotation-fragment=\"18547785\" class=\"referent\" classification=\"accepted\" data-id=\"18547785\" href=\"/The-weeknd-blinding-lights-lyrics#note-18547785\" image=\"false\" ng-class=\"{\\n          \\'referent--linked_to_preview\\': song_ctrl.referent_has_preview(fragment_id),\\n          \\'referent--linked_to_preview_active\\': song_ctrl.highlight_preview_referent(fragment_element_id),\\n          \\'referent--purple_indicator\\': song_ctrl.show_preview_referent_indicator(fragment_element_id)\\n        }\" ng-click=\"open()\" on-hover-with-no-digest=\"set_current_hover_and_digest(hover ? fragment_id : undefined)\" pending-editorial-actions-count=\"0\" prevent-default-click=\"\">\\n          I said, ooh, I\\'m blinded by the lights\\n          <br/>\\n          No, I can\\'t sleep until I feel your touch\\n          <br/>\\n          Hey, hey, hey\\n          <br/>\\n          Hey, hey, hey\\n         </a>\\n         <br/>\\n         <br/>\\n         [Outro]\\n         <br/>\\n         <a annotation-fragment=\"18547785\" class=\"referent\" classification=\"accepted\" data-id=\"18547785\" href=\"/The-weeknd-blinding-lights-lyrics#note-18547785\" image=\"false\" ng-class=\"{\\n          \\'referent--linked_to_preview\\': song_ctrl.referent_has_preview(fragment_id),\\n          \\'referent--linked_to_preview_active\\': song_ctrl.highlight_preview_referent(fragment_element_id),\\n          \\'referent--purple_indicator\\': song_ctrl.show_preview_referent_indicator(fragment_element_id)\\n        }\" ng-click=\"open()\" on-hover-with-no-digest=\"set_current_hover_and_digest(hover ? fragment_id : undefined)\" pending-editorial-actions-count=\"0\" prevent-default-click=\"\">\\n          I said, ooh, I\\'m blinded by the lights\\n          <br/>\\n          No, I can\\'t sleep until I feel your touch\\n         </a>\\n        </p>\\n        <!--/sse-->\\n       </div>\\n      </div>\\n      <div initial-content-for=\"recirculated_content\">\\n       <div class=\"u-xx_large_vertical_margins\">\\n        <div class=\"text_label text_label--gray\">\\n         More on Genius\\n        </div>\\n        <a class=\"recirculated_content\" href=\"https://genius.com/a/the-weeknd-s-blinding-lights-is-the-first-song-in-history-to-spend-a-full-year-in-the-top-10\">\\n         <div class=\"recirculated_content-image\">\\n         </div>\\n         <div class=\"recirculated_content-info\">\\n          <div class=\"recirculated_content-title\">\\n           The Weeknd’s “Blinding Lights” Is The First Song In History To Spend A Full Year In The Top 10\\n          </div>\\n         </div>\\n        </a>\\n        <a class=\"recirculated_content\" href=\"https://genius.com/a/rosalia-hops-on-the-weeknd-s-blinding-lights-remix\">\\n         <div class=\"recirculated_content-image\">\\n         </div>\\n         <div class=\"recirculated_content-info\">\\n          <div class=\"recirculated_content-title\">\\n           Rosalía Hops On The Weeknd’s “Blinding Lights” Remix\\n          </div>\\n         </div>\\n        </a>\\n        <a class=\"recirculated_content\" href=\"https://genius.com/a/the-weeknd-will-perform-at-the-2021-super-bowl-halftime-show\">\\n         <div class=\"recirculated_content-image\">\\n         </div>\\n         <div class=\"recirculated_content-info\">\\n          <div class=\"recirculated_content-title\">\\n           The Weeknd Will Perform At The 2021 Super Bowl Halftime Show\\n          </div>\\n         </div>\\n        </a>\\n       </div>\\n      </div>\\n     </div>\\n    </div>\\n    <div class=\"column_layout-column_span column_layout-column_span--secondary u-top_margin column_layout-flex_column\">\\n     <div class=\"column_layout-column_span-initial_content\">\\n      <div class=\"dfp_unit u-x_large_bottom_margin dfp_unit--in_read\">\\n       <div style=\"\\n      width: 300px;\\n      height: 250px;\\n    \">\\n       </div>\\n      </div>\\n      <div class=\"annotation_label\">\\n       <h3 class=\"u-inline\">\\n        About “Blinding Lights”\\n       </h3>\\n      </div>\\n      <div class=\"rich_text_formatting\">\\n       <p>\\n        “Blinding Lights,” the second single to The Weeknd’s fourth studio album\\n        <a data-api_path=\"/albums/477262\" href=\"https://genius.com/albums/The-weeknd/After-hours\" rel=\"noopener\">\\n         <em>\\n          After Hours\\n         </em>\\n        </a>\\n        , following the record’s lead single\\n        <a data-api_path=\"/songs/5053007\" href=\"https://genius.com/The-weeknd-heartless-lyrics\" rel=\"noopener\">\\n         “Heartless,”\\n        </a>\\n        which released two days prior on November 27, 2019. The track finds Abel in a constant state of distraction that he only gets relief from when in the presence of a significant other. The song is an up-tempo electropop track that features large ‘80s-inspired synths and electronic dance music drums, similar to the sonic direction of his third studio album,\\n        <a data-api_path=\"/albums/221906\" href=\"https://genius.com/albums/The-weeknd/Starboy\" rel=\"noopener\">\\n         <em>\\n          Starboy.\\n         </em>\\n        </a>\\n       </p>\\n       <p>\\n        The track was\\n        <a href=\"https://www.youtube.com/watch?v=irVHy1SsNJ0&amp;feature=youtu.be&amp;fbclid=IwAR0gSwHDIMI-KGjzNXXmGgmW_7HxEqKr-6pSLtOfUlN_vWqDWrWsUF5LYx8\" rel=\"noopener nofollow\">\\n         first announced\\n        </a>\\n        on November 24, 2019 in the trailer for a Mercedes Benz advertisement. The\\n        <a href=\"https://www.youtube.com/watch?v=FRDIZgPajdQ\" rel=\"noopener nofollow\">\\n         full commercial\\n        </a>\\n        debuted minutes after the song’s release and is heavily centered around it. In the ad, The Weeknd drives around in a Mercedes car as the track plays in the background.\\n       </p>\\n       <p>\\n        The song leaked on November 26, 2019, a few days before its official release. Abel acknowledged in\\n        <a href=\"https://twitter.com/theweeknd/status/1200146504058408961?s=20\" rel=\"noopener nofollow\">\\n         a tweet\\n        </a>\\n        , where he confirmed its official release:\\n       </p>\\n       <blockquote>\\n        <p>\\n         oh yah… and more new music tonight (in HQ😉)\\n        </p>\\n       </blockquote>\\n       <p>\\n        A\\n        <a href=\"https://www.youtube.com/watch?v=4NRXx6U8ABQ\" rel=\"noopener nofollow\">\\n         music video\\n        </a>\\n        for the track was released on January 21, 2020. The video is a continuation of the music video from\\n        <a data-api_path=\"/songs/5053007\" href=\"https://genius.com/The-weeknd-heartless-lyrics\" rel=\"noopener\">\\n         “Heartless,”\\n        </a>\\n        starting with Abel stopping his manic run through Las Vegas, which is where the video for “Heartless” ended. From there, Abel continues his tear through the city while under the influence of many substances, this time going to a strip club as well as driving a different luxury Mercedes Benz AMG-GT in the video.\\n       </p>\\n      </div>\\n      <div class=\"song_metadata u-xx_large_bottom_margin\">\\n      </div>\\n     </div>\\n     <div class=\"column_layout-column_span-initial_content\">\\n      <div initial-content-for=\"question_list\">\\n       <ul>\\n        <li class=\"question question--bottom_border\">\\n         <div class=\"u-bottom_margin\">\\n          <h3 class=\"annotation_label\">\\n           Translations\\n          </h3>\\n         </div>\\n         <div class=\"rich_text_formatting rich_text_formatting--no_vertical_margins\">\\n          <ul>\\n           <li>\\n            <a data-api_path=\"/songs/5370472\" href=\"https://genius.com/Genius-perkthim-ne-shqip-the-weeknd-blinding-lights-perkthim-ne-shqip-lyrics\" rel=\"noopener\">\\n             Albanian Translation\\n            </a>\\n           </li>\\n           <li>\\n            <a data-api_path=\"/songs/5175727\" href=\"https://genius.com/Genius-translations-the-weeknd-blinding-lights-dansk-oversttelse-lyrics\" rel=\"noopener\">\\n             Danish Translation\\n            </a>\\n           </li>\\n           <li>\\n            <a data-api_path=\"/songs/5405318\" href=\"https://genius.com/Genius-nederlandse-vertalingen-the-weeknd-blinding-lights-nederlandse-vertaling-lyrics\" rel=\"noopener\">\\n             Dutch Translation\\n            </a>\\n           </li>\\n           <li>\\n            <a data-api_path=\"/songs/5062165\" href=\"https://genius.com/Genius-farsi-translations-the-weeknd-blinding-lights-lyrics\" rel=\"noopener\">\\n             Farsi Translation\\n            </a>\\n           </li>\\n           <li>\\n            <a data-api_path=\"/songs/5065371\" href=\"https://genius.com/Genius-traductions-francaises-the-weeknd-blinding-lights-traduction-francaise-lyrics\" rel=\"noopener\">\\n             French Translation\\n            </a>\\n           </li>\\n           <li>\\n            <a data-api_path=\"/songs/5062458\" href=\"https://genius.com/Genius-deutsche-ubersetzungen-the-weeknd-blinding-lights-deutsche-ubersetzung-lyrics\" rel=\"noopener\">\\n             German Translation\\n            </a>\\n           </li>\\n           <li>\\n            <a data-api_path=\"/songs/5431256\" href=\"https://genius.com/Genius-hebrew-translations-the-weeknd-blinding-lights-lyrics\" rel=\"noopener\">\\n             Hebrew Translation\\n            </a>\\n           </li>\\n           <li>\\n            <a data-api_path=\"/songs/5090740\" href=\"https://genius.com/Genius-translations-the-weeknd-blinding-lights-traduzione-italiana-lyrics\" rel=\"noopener\">\\n             Italian Translation\\n            </a>\\n           </li>\\n           <li>\\n            <a data-api_path=\"/songs/5948207\" href=\"https://genius.com/Genius-japanese-translations-the-weekend-blinding-lights-lyrics\" rel=\"noopener\">\\n             Japanese Translation\\n            </a>\\n           </li>\\n           <li>\\n            <a data-api_path=\"/songs/5057383\" href=\"https://genius.com/Genius-polska-tumaczenia-the-weeknd-blinding-lights-polskie-tumaczenie-lyrics\" rel=\"noopener\">\\n             Polish Translation\\n            </a>\\n           </li>\\n           <li>\\n            <a data-api_path=\"/songs/5067817\" href=\"https://genius.com/Genius-brasil-traducoes-the-weeknd-blinding-lights-traducao-em-portugues-lyrics\" rel=\"noopener\">\\n             Portuguese Translation\\n            </a>\\n           </li>\\n           <li>\\n            <a data-api_path=\"/songs/5071731\" href=\"https://genius.com/Genius-russian-translations-the-weeknd-blinding-lights-lyrics\" rel=\"noopener\">\\n             Russian Translation\\n            </a>\\n           </li>\\n           <li>\\n            <a data-api_path=\"/songs/5069962\" href=\"https://genius.com/Genius-translations-the-weeknd-blinding-lights-slovensky-preklad-lyrics\" rel=\"noopener\">\\n             Slovenian Translation\\n            </a>\\n           </li>\\n           <li>\\n            <a data-api_path=\"/songs/5062494\" href=\"https://genius.com/Genius-traducciones-al-espanol-the-weeknd-blinding-lights-traduccion-al-espanol-lyrics\" rel=\"noopener\">\\n             Spanish Translation\\n            </a>\\n           </li>\\n           <li>\\n            <a data-api_path=\"/songs/5062620\" href=\"https://genius.com/Genius-swedish-translations-the-weeknd-blinding-lights-svensk-oversattning-lyrics\" rel=\"noopener\">\\n             Swedish Translation\\n            </a>\\n           </li>\\n           <li>\\n            <a data-api_path=\"/songs/5062545\" href=\"https://genius.com/Genius-turkce-ceviri-the-weeknd-blinding-lights-turkce-ceviri-lyrics\" rel=\"noopener\">\\n             Turkish Translation\\n            </a>\\n           </li>\\n          </ul>\\n         </div>\\n        </li>\\n        <li class=\"question question--bottom_border\">\\n         <div class=\"u-bottom_margin\">\\n          <h3 class=\"annotation_label\">\\n           How was this track used commercially?\\n          </h3>\\n         </div>\\n         <div class=\"rich_text_formatting rich_text_formatting--no_vertical_margins\">\\n          <p>\\n           On November 24, 2019,\\n           <a data-api_path=\"/artists/2358\" href=\"https://genius.com/artists/The-weeknd\" rel=\"noopener\">\\n            The Weeknd\\n           </a>\\n           collaborated with German automobile company\\n           <a href=\"https://www.mercedes-benz.com/en/\" rel=\"noopener nofollow\">\\n            Mercedes-Benz\\n           </a>\\n           to release a snippet of the track alongside a\\n           <a href=\"https://www.youtube.com/watch?v=irVHy1SsNJ0&amp;feature=youtu.be&amp;fbclid=IwAR0gSwHDIMI-KGjzNXXmGgmW_7HxEqKr-6pSLtOfUlN_vWqDWrWsUF5LYx8\" rel=\"noopener nofollow\">\\n            commercial of the company’s first all-electric car\\n           </a>\\n           . The song’s official release was accompanied by a full-length version of the commercial which featured the track:\\n          </p>\\n          <p>\\n          </p>\\n          <div class=\"embedly_preview embedly_preview--video\">\\n           <iframe allowfullscreen=\"1\" frameborder=\"0\" height=\"390\" src=\"https://www.youtube.com/embed/OQe_f2tquZU?modestbranding=1&amp;start=0&amp;showinfo=0&amp;enablejsapi=1&amp;origin=genius.com\" type=\"text/html\" width=\"640\">\\n           </iframe>\\n          </div>\\n         </div>\\n        </li>\\n        <li class=\"question question--bottom_border\">\\n         <div class=\"u-bottom_margin\">\\n          <h3 class=\"annotation_label\">\\n           Have The Weeknd and Max Martin collaborated before?\\n          </h3>\\n         </div>\\n         <div class=\"rich_text_formatting rich_text_formatting--no_vertical_margins\">\\n          <p>\\n           Yes! They have collaborated several times on albums like\\n           <a data-api_path=\"/albums/127525\" href=\"https://genius.com/albums/The-weeknd/Beauty-behind-the-madness\" rel=\"noopener\">\\n            <em>\\n             Beauty Behind the Madness\\n            </em>\\n           </a>\\n           and\\n           <a data-api_path=\"/albums/221906\" href=\"https://genius.com/albums/The-weeknd/Starboy\" rel=\"noopener\">\\n            <em>\\n             Starboy\\n            </em>\\n           </a>\\n           .\\n          </p>\\n         </div>\\n        </li>\\n        <li class=\"question question--bottom_border\">\\n         <div class=\"u-bottom_margin\">\\n          <h3 class=\"annotation_label\">\\n           How did this song perform on the Billboard charts?\\n          </h3>\\n         </div>\\n         <div class=\"rich_text_formatting rich_text_formatting--no_vertical_margins\">\\n          <p>\\n           During the week ending December 14, 2019, “Blinding Lights”\\n           <a href=\"https://www.billboard.com/articles/business/chart-beat/8545778/the-weeknd-heartless-no-1-hot-100\" rel=\"noopener nofollow\">\\n            debuted at #11\\n           </a>\\n           on the Hot 100. During the week ending April 4, 2020, the song\\n           <a href=\"https://twitter.com/chartdata/status/1244670497226358784\" rel=\"noopener nofollow\">\\n            peaked at #1\\n           </a>\\n           on the chart, becoming Abel’s fifth chart-topper.\\n          </p>\\n         </div>\\n        </li>\\n        <li class=\"question question--bottom_border\">\\n         <div class=\"u-bottom_margin\">\\n          <h3 class=\"annotation_label\">\\n           Does this song have any certifications?\\n          </h3>\\n         </div>\\n         <div class=\"rich_text_formatting rich_text_formatting--no_vertical_margins\">\\n          <p>\\n           Yes. “Blinding Lights” was\\n           <a href=\"https://www.riaa.com/gold-platinum/?tab_active=default-award&amp;ar=The+Weeknd&amp;ti=blinding+lights&amp;lab=&amp;genre=&amp;format=&amp;date_option=release&amp;from=&amp;to=&amp;award=&amp;type=&amp;category=&amp;adv=SEARCH#search_section\" rel=\"noopener nofollow\">\\n            certified platinum\\n           </a>\\n           by the RIAA on March 20, 2020.\\n          </p>\\n         </div>\\n        </li>\\n        <li class=\"question question--bottom_border\">\\n         <div class=\"u-bottom_margin\">\\n          <h3 class=\"annotation_label\">\\n           Has the song broken any records?\\n          </h3>\\n         </div>\\n         <div class=\"rich_text_formatting rich_text_formatting--no_vertical_margins\">\\n          <p>\\n           Yes, as of November 23rd, 2020, the song currently holds the record for the most weeks in the Top 10 on the Billboard Hot 100 chart, with its total of 40 weeks surpassing the previous record holder,\\n           <a data-api_path=\"/songs/4759464\" href=\"https://genius.com/Post-malone-circles-lyrics\" rel=\"noopener\">\\n            “Circles”\\n           </a>\\n           by Post Malone.\\n          </p>\\n         </div>\\n        </li>\\n        <li class=\"question question--bottom_border\">\\n         <div class=\"u-bottom_margin\">\\n          <h3 class=\"annotation_label\">\\n           Is there a behind the scenes video?\\n          </h3>\\n         </div>\\n         <div class=\"rich_text_formatting rich_text_formatting--no_vertical_margins\">\\n          <p>\\n          </p>\\n          <div class=\"embedly_preview embedly_preview--video\">\\n           <iframe allowfullscreen=\"1\" frameborder=\"0\" height=\"390\" src=\"https://www.youtube.com/embed/ycdFpM3njTs?modestbranding=1&amp;start=0&amp;showinfo=0&amp;enablejsapi=1&amp;origin=genius.com\" type=\"text/html\" width=\"640\">\\n           </iframe>\\n          </div>\\n         </div>\\n        </li>\\n        <li class=\"question question--bottom_border\">\\n         <div class=\"u-bottom_margin\">\\n          <h3 class=\"annotation_label\">\\n           Is there a live performance of this song?\\n          </h3>\\n         </div>\\n         <div class=\"rich_text_formatting rich_text_formatting--no_vertical_margins\">\\n          <p>\\n          </p>\\n          <div class=\"embedly_preview embedly_preview--video\">\\n           <iframe allowfullscreen=\"1\" frameborder=\"0\" height=\"390\" src=\"https://www.youtube.com/embed/17GxpgE-Fwo?modestbranding=1&amp;start=0&amp;showinfo=0&amp;enablejsapi=1&amp;origin=genius.com\" type=\"text/html\" width=\"640\">\\n           </iframe>\\n          </div>\\n         </div>\\n        </li>\\n        <li class=\"question question--bottom_border\">\\n         <div class=\"u-bottom_margin\">\\n          <h3 class=\"annotation_label\">\\n           Is there another live performance of this song?\\n          </h3>\\n         </div>\\n         <div class=\"rich_text_formatting rich_text_formatting--no_vertical_margins\">\\n          <p>\\n           The Weeknd performed “Blinding Lights” at the\\n           <a href=\"https://www.iheart.com/jingle-ball/\" rel=\"noopener nofollow\">\\n            iHeart Radio Jingle Ball 2020\\n           </a>\\n           .\\n          </p>\\n          <p>\\n          </p>\\n          <div class=\"embedly_preview embedly_preview--video\">\\n           <iframe allowfullscreen=\"1\" frameborder=\"0\" height=\"390\" src=\"https://www.youtube.com/embed/hNYkP0XHHYY?modestbranding=1&amp;start=0&amp;showinfo=0&amp;enablejsapi=1&amp;origin=genius.com\" type=\"text/html\" width=\"640\">\\n           </iframe>\\n          </div>\\n         </div>\\n        </li>\\n       </ul>\\n      </div>\\n      <div initial-content-for=\"track_info\">\\n       <div class=\"u-xx_large_vertical_margins show_tiny_edit_button_on_hover\">\\n        <h3 class=\"text_label u-x_small_bottom_margin\">\\n         \"Blinding Lights\" Track Info\\n        </h3>\\n        <div class=\"metadata_unit metadata_unit--table_row\">\\n         <span class=\"metadata_unit-label\">\\n          Written By\\n         </span>\\n         <span class=\"metadata_unit-info\">\\n          <a href=\"https://genius.com/artists/The-weeknd\">\\n           The Weeknd\\n          </a>\\n          ,\\n          <a href=\"https://genius.com/artists/Oscar-holter\">\\n           Oscar Holter\\n          </a>\\n          ,\\n          <a href=\"https://genius.com/artists/Max-martin\">\\n           Max Martin\\n          </a>\\n          &amp;\\n          <span class=\"metadata_unit-show_more\">\\n           2 more\\n          </span>\\n         </span>\\n        </div>\\n        <div class=\"metadata_unit metadata_unit--table_row\">\\n         <span class=\"metadata_unit-label\">\\n          Video Steadicam\\n         </span>\\n         <span class=\"metadata_unit-info\">\\n          <a href=\"https://genius.com/artists/Niels-lindelien\">\\n           Niels Lindelien\\n          </a>\\n         </span>\\n        </div>\\n        <div class=\"metadata_unit metadata_unit--table_row\">\\n         <span class=\"metadata_unit-label\">\\n          Video Title Designer\\n         </span>\\n         <span class=\"metadata_unit-info\">\\n          <a href=\"https://genius.com/artists/Aleksi-tammi\">\\n           Aleksi Tammi\\n          </a>\\n         </span>\\n        </div>\\n        <div class=\"metadata_unit metadata_unit--table_row\">\\n         <span class=\"metadata_unit-label\">\\n          Keyboards\\n         </span>\\n         <span class=\"metadata_unit-info\">\\n          <a href=\"https://genius.com/artists/The-weeknd\">\\n           The Weeknd\\n          </a>\\n          ,\\n          <a href=\"https://genius.com/artists/Oscar-holter\">\\n           Oscar Holter\\n          </a>\\n          &amp;\\n          <a href=\"https://genius.com/artists/Max-martin\">\\n           Max Martin\\n          </a>\\n         </span>\\n        </div>\\n        <div class=\"metadata_unit metadata_unit--table_row\">\\n         <span class=\"metadata_unit-label\">\\n          Performance Rights\\n         </span>\\n         <span class=\"metadata_unit-info\">\\n          <a href=\"https://genius.com/artists/Socan\">\\n           SOCAN\\n          </a>\\n          &amp;\\n          <a href=\"https://genius.com/artists/Stim-pro\">\\n           STIM (PRO)\\n          </a>\\n         </span>\\n        </div>\\n        <div class=\"metadata_unit metadata_unit--table_row\">\\n         <span class=\"metadata_unit-label\">\\n          Publisher\\n         </span>\\n         <span class=\"metadata_unit-info\">\\n          <a href=\"https://genius.com/artists/New-world-music\">\\n           New World Music\\n          </a>\\n          ,\\n          <a href=\"https://genius.com/artists/Warner-music-group\">\\n           Warner Music Group\\n          </a>\\n          ,\\n          <a href=\"https://genius.com/artists/Kobalt-music\">\\n           Kobalt Music\\n          </a>\\n          &amp;\\n          <span class=\"metadata_unit-show_more\">\\n           6 more\\n          </span>\\n         </span>\\n        </div>\\n        <div class=\"metadata_unit metadata_unit--table_row\">\\n         <span class=\"metadata_unit-label\">\\n          Engineer\\n         </span>\\n         <span class=\"metadata_unit-info\">\\n          <a href=\"https://genius.com/artists/Shin-kamiyama\">\\n           Shin Kamiyama\\n          </a>\\n         </span>\\n        </div>\\n        <div class=\"metadata_unit metadata_unit--table_row\">\\n         <span class=\"metadata_unit-label\">\\n          Mixing Engineer\\n         </span>\\n         <span class=\"metadata_unit-info\">\\n          <a href=\"https://genius.com/artists/John-hanes\">\\n           John Hanes\\n          </a>\\n          &amp;\\n          <a href=\"https://genius.com/artists/Serban-ghenea\">\\n           Șerban Ghenea\\n          </a>\\n         </span>\\n        </div>\\n        <div class=\"metadata_unit metadata_unit--table_row\">\\n         <span class=\"metadata_unit-label\">\\n          Phonographic Copyright ℗\\n         </span>\\n         <span class=\"metadata_unit-info\">\\n          <a href=\"https://genius.com/artists/Xo-records\">\\n           XO Records\\n          </a>\\n          ,\\n          <a href=\"https://genius.com/artists/Universal-music-group\">\\n           Universal Music Group\\n          </a>\\n          &amp;\\n          <a href=\"https://genius.com/artists/Republic-records\">\\n           Republic Records\\n          </a>\\n         </span>\\n        </div>\\n        <div class=\"metadata_unit metadata_unit--table_row\">\\n         <span class=\"metadata_unit-label\">\\n          Copyright ©\\n         </span>\\n         <span class=\"metadata_unit-info\">\\n          <a href=\"https://genius.com/artists/Xo-records\">\\n           XO Records\\n          </a>\\n          ,\\n          <a href=\"https://genius.com/artists/Universal-music-group\">\\n           Universal Music Group\\n          </a>\\n          &amp;\\n          <a href=\"https://genius.com/artists/Republic-records\">\\n           Republic Records\\n          </a>\\n         </span>\\n        </div>\\n        <div class=\"metadata_unit metadata_unit--table_row\">\\n         <span class=\"metadata_unit-label\">\\n          Label\\n         </span>\\n         <span class=\"metadata_unit-info\">\\n          <a href=\"https://genius.com/artists/Xo-records\">\\n           XO Records\\n          </a>\\n          &amp;\\n          <a href=\"https://genius.com/artists/Republic-records\">\\n           Republic Records\\n          </a>\\n         </span>\\n        </div>\\n        <div class=\"metadata_unit metadata_unit--table_row\">\\n         <span class=\"metadata_unit-label\">\\n          Distributor\\n         </span>\\n         <span class=\"metadata_unit-info\">\\n          <a href=\"https://genius.com/artists/Universal-music-group\">\\n           Universal Music Group\\n          </a>\\n         </span>\\n        </div>\\n        <div class=\"metadata_unit metadata_unit--table_row\">\\n         <span class=\"metadata_unit-label\">\\n          Video 3d\\n         </span>\\n         <span class=\"metadata_unit-info\">\\n          <a href=\"https://genius.com/artists/Oscar-bockerman\">\\n           Oscar Böckerman\\n          </a>\\n         </span>\\n        </div>\\n        <div class=\"metadata_unit metadata_unit--table_row\">\\n         <span class=\"metadata_unit-label\">\\n          Video Sound Designer\\n         </span>\\n         <span class=\"metadata_unit-info\">\\n          <a href=\"https://genius.com/artists/Akseli-soini\">\\n           Akseli Soini\\n          </a>\\n         </span>\\n        </div>\\n        <div class=\"metadata_unit metadata_unit--table_row\">\\n         <span class=\"metadata_unit-label\">\\n          Video Colorist\\n         </span>\\n         <span class=\"metadata_unit-info\">\\n          <a href=\"https://genius.com/artists/Nicke-jacobsson\">\\n           Nicke Jacobsson\\n          </a>\\n         </span>\\n        </div>\\n        <div class=\"metadata_unit metadata_unit--table_row\">\\n         <span class=\"metadata_unit-label\">\\n          Video Effects\\n         </span>\\n         <span class=\"metadata_unit-info\">\\n          <a href=\"https://genius.com/artists/Mathematic\">\\n           Mathematic\\n          </a>\\n         </span>\\n        </div>\\n        <div class=\"metadata_unit metadata_unit--table_row\">\\n         <span class=\"metadata_unit-label\">\\n          Video Post Production Supervisor\\n         </span>\\n         <span class=\"metadata_unit-info\">\\n          <a href=\"https://genius.com/artists/Alex-ernst\">\\n           Alex Ernst\\n          </a>\\n         </span>\\n        </div>\\n        <div class=\"metadata_unit metadata_unit--table_row\">\\n         <span class=\"metadata_unit-label\">\\n          Video Editor\\n         </span>\\n         <span class=\"metadata_unit-info\">\\n          <a href=\"https://genius.com/artists/Tim-montana\">\\n           Tim Montana\\n          </a>\\n          &amp;\\n          <a href=\"https://genius.com/artists/Janne-vartia\">\\n           Janne Vartia\\n          </a>\\n         </span>\\n        </div>\\n        <div class=\"metadata_unit metadata_unit--table_row\">\\n         <span class=\"metadata_unit-label\">\\n          Video 1st Assistant Director\\n         </span>\\n         <span class=\"metadata_unit-info\">\\n          <a href=\"https://genius.com/artists/Kenneth-taylor\">\\n           Kenneth Taylor\\n          </a>\\n         </span>\\n        </div>\\n        <div class=\"metadata_unit metadata_unit--table_row\">\\n         <span class=\"metadata_unit-label\">\\n          Video Production Designer\\n         </span>\\n         <span class=\"metadata_unit-info\">\\n          <a href=\"https://genius.com/artists/Adam-william-wilson\">\\n           Adam William Wilson\\n          </a>\\n         </span>\\n        </div>\\n        <div class=\"metadata_unit metadata_unit--table_row\">\\n         <span class=\"metadata_unit-label\">\\n          Video Key Grip\\n         </span>\\n         <span class=\"metadata_unit-info\">\\n          <a href=\"https://genius.com/artists/Marlow-nunez\">\\n           Marlow Nunez\\n          </a>\\n         </span>\\n        </div>\\n        <div class=\"metadata_unit metadata_unit--table_row\">\\n         <span class=\"metadata_unit-label\">\\n          Video Gaffer\\n         </span>\\n         <span class=\"metadata_unit-info\">\\n          <a href=\"https://genius.com/artists/Nizar-najm\">\\n           Nizar Najm\\n          </a>\\n         </span>\\n        </div>\\n        <div class=\"metadata_unit metadata_unit--table_row\">\\n         <span class=\"metadata_unit-label\">\\n          Video 2nd Unit Director Of Photography\\n         </span>\\n         <span class=\"metadata_unit-info\">\\n          <a href=\"https://genius.com/artists/Devin-daddy-karringten\">\\n           Devin “Daddy” Karringten\\n          </a>\\n         </span>\\n        </div>\\n        <div class=\"metadata_unit metadata_unit--table_row\">\\n         <span class=\"metadata_unit-label\">\\n          Video Director Of Photography\\n         </span>\\n         <span class=\"metadata_unit-info\">\\n          <a href=\"https://genius.com/artists/Oliver-miller\">\\n           Oliver Miller\\n          </a>\\n         </span>\\n        </div>\\n        <div class=\"metadata_unit metadata_unit--table_row\">\\n         <span class=\"metadata_unit-label\">\\n          Video Producer\\n         </span>\\n         <span class=\"metadata_unit-info\">\\n          <a href=\"https://genius.com/artists/Sarah-park\">\\n           Sarah Park\\n          </a>\\n         </span>\\n        </div>\\n        <div class=\"metadata_unit metadata_unit--table_row\">\\n         <span class=\"metadata_unit-label\">\\n          Video Executive Producer\\n         </span>\\n         <span class=\"metadata_unit-info\">\\n          <a href=\"https://genius.com/artists/Saskia-whinney\">\\n           Saskia Whinney\\n          </a>\\n         </span>\\n        </div>\\n        <div class=\"metadata_unit metadata_unit--table_row\">\\n         <span class=\"metadata_unit-label\">\\n          Video Production Company\\n         </span>\\n         <span class=\"metadata_unit-info\">\\n          <a href=\"https://genius.com/artists/Somesuch\">\\n           Somesuch\\n          </a>\\n         </span>\\n        </div>\\n        <div class=\"metadata_unit metadata_unit--table_row\">\\n         <span class=\"metadata_unit-label\">\\n          Video Director\\n         </span>\\n         <span class=\"metadata_unit-info\">\\n          <a href=\"https://genius.com/artists/Anton-tammi\">\\n           Anton Tammi\\n          </a>\\n         </span>\\n        </div>\\n        <div class=\"metadata_unit metadata_unit--table_row\">\\n         <span class=\"metadata_unit-label\">\\n          Recording Engineer\\n         </span>\\n         <span class=\"metadata_unit-info\">\\n          <a href=\"https://genius.com/artists/John-hanes\">\\n           John Hanes\\n          </a>\\n         </span>\\n        </div>\\n        <div class=\"metadata_unit metadata_unit--table_row\">\\n         <span class=\"metadata_unit-label\">\\n          Programmer\\n         </span>\\n         <span class=\"metadata_unit-info\">\\n          <a href=\"https://genius.com/artists/The-weeknd\">\\n           The Weeknd\\n          </a>\\n          ,\\n          <a href=\"https://genius.com/artists/Oscar-holter\">\\n           Oscar Holter\\n          </a>\\n          &amp;\\n          <a href=\"https://genius.com/artists/Max-martin\">\\n           Max Martin\\n          </a>\\n         </span>\\n        </div>\\n        <div class=\"metadata_unit metadata_unit--table_row\">\\n         <span class=\"metadata_unit-label\">\\n          Mastering Engineer\\n         </span>\\n         <span class=\"metadata_unit-info\">\\n          <a href=\"https://genius.com/artists/Kevin-peterson\">\\n           Kevin Peterson\\n          </a>\\n          &amp;\\n          <a href=\"https://genius.com/artists/Dave-kutch\">\\n           Dave Kutch\\n          </a>\\n         </span>\\n        </div>\\n        <div class=\"metadata_unit metadata_unit--table_row\">\\n         <span class=\"metadata_unit-label\">\\n          Guitar\\n         </span>\\n         <span class=\"metadata_unit-info\">\\n          <a href=\"https://genius.com/artists/The-weeknd\">\\n           The Weeknd\\n          </a>\\n          ,\\n          <a href=\"https://genius.com/artists/Oscar-holter\">\\n           Oscar Holter\\n          </a>\\n          &amp;\\n          <a href=\"https://genius.com/artists/Max-martin\">\\n           Max Martin\\n          </a>\\n         </span>\\n        </div>\\n        <div class=\"metadata_unit metadata_unit--table_row\">\\n         <span class=\"metadata_unit-label\">\\n          Drums\\n         </span>\\n         <span class=\"metadata_unit-info\">\\n          <a href=\"https://genius.com/artists/The-weeknd\">\\n           The Weeknd\\n          </a>\\n          ,\\n          <a href=\"https://genius.com/artists/Oscar-holter\">\\n           Oscar Holter\\n          </a>\\n          &amp;\\n          <a href=\"https://genius.com/artists/Max-martin\">\\n           Max Martin\\n          </a>\\n         </span>\\n        </div>\\n        <div class=\"metadata_unit metadata_unit--table_row\">\\n         <span class=\"metadata_unit-label\">\\n          Bass\\n         </span>\\n         <span class=\"metadata_unit-info\">\\n          <a href=\"https://genius.com/artists/The-weeknd\">\\n           The Weeknd\\n          </a>\\n          ,\\n          <a href=\"https://genius.com/artists/Oscar-holter\">\\n           Oscar Holter\\n          </a>\\n          &amp;\\n          <a href=\"https://genius.com/artists/Max-martin\">\\n           Max Martin\\n          </a>\\n         </span>\\n        </div>\\n        <div class=\"metadata_unit metadata_unit--table_row\">\\n         <span class=\"metadata_unit-label\">\\n          Assistant Recording Engineer\\n         </span>\\n         <span class=\"metadata_unit-info\">\\n          <a href=\"https://genius.com/artists/Sean-klein\">\\n           Sean Klein\\n          </a>\\n          ,\\n          <a href=\"https://genius.com/artists/Jeremy-lertola\">\\n           Jeremy Lertola\\n          </a>\\n          &amp;\\n          <a href=\"https://genius.com/artists/Cory-bice\">\\n           Cory Bice\\n          </a>\\n         </span>\\n        </div>\\n        <div class=\"metadata_unit metadata_unit--table_row\">\\n         <span class=\"metadata_unit-label\">\\n          Recorded At\\n         </span>\\n         <span class=\"metadata_unit-info metadata_unit-info--text_only\">\\n          MXM Studios (Los Angeles, CA) &amp; Jungle City Studios (New York, NY)\\n         </span>\\n        </div>\\n        <div class=\"metadata_unit metadata_unit--table_row\">\\n         <span class=\"metadata_unit-label\">\\n          Release Date\\n         </span>\\n         <span class=\"metadata_unit-info metadata_unit-info--text_only\">\\n          November 29, 2019\\n         </span>\\n        </div>\\n        <div class=\"metadata_unit metadata_unit--table_row\">\\n         <span class=\"metadata_unit-label\">\\n          Sampled In\\n         </span>\\n         <span class=\"metadata_unit-info\">\\n          <div class=\"u-x_small_bottom_margin\">\\n           <a href=\"https://genius.com/Vincent-mashups-super-meme-megamix-ultimate-2-lyrics\">\\n            SUPER MEME MEGAMIX ULTIMATE 2 by\\xa0Vincent\\xa0Mashups\\n           </a>\\n          </div>\\n          <div class=\"u-x_small_bottom_margin\">\\n           <a href=\"https://genius.com/Myusernamesthis-robbing-stuff-lyrics\">\\n            Robbing Stuff by\\xa0MyUsernamesThis (Ft.\\xa0Kid\\xa0Fly &amp; Lucas\\xa0Luck Beats)\\n           </a>\\n          </div>\\n          <div class=\"u-x_small_bottom_margin\">\\n           <a href=\"https://genius.com/Leod-brasil-blinding-azeitona-lyrics\">\\n            BLINDING AZEITONA by\\xa0Leod\\xa0(Brasil) (Ft.\\xa0DJ\\xa0Azeitona)\\n           </a>\\n          </div>\\n          <div class=\"u-x_small_bottom_margin\">\\n           <a href=\"https://genius.com/John-fassold-the-end-credits-for-2020-lyrics\">\\n            The end credits for 2020 by\\xa0John\\xa0Fassold\\n           </a>\\n          </div>\\n          <div class=\"u-x_small_bottom_margin\">\\n           <a href=\"https://genius.com/Felipe-castanhari-retrospectiva-animada-2020-lyrics\">\\n            Retrospectiva Animada 2020 by\\xa0Felipe\\xa0Castanhari (Ft.\\xa0LuVi\\xa0(Inutilismo))\\n           </a>\\n          </div>\\n         </span>\\n        </div>\\n        <div class=\"metadata_unit metadata_unit--table_row\">\\n         <span class=\"metadata_unit-label\">\\n          Interpolates\\n         </span>\\n         <span class=\"metadata_unit-info\">\\n          <div class=\"u-x_small_bottom_margin\">\\n           <a href=\"https://genius.com/The-weeknd-the-hills-lyrics\">\\n            The Hills by\\xa0The\\xa0Weeknd\\n           </a>\\n          </div>\\n          <div class=\"u-x_small_bottom_margin\">\\n           <a href=\"https://genius.com/Rod-stewart-young-turks-lyrics\">\\n            Young Turks by\\xa0Rod\\xa0Stewart\\n           </a>\\n          </div>\\n          <div class=\"u-x_small_bottom_margin\">\\n           <a href=\"https://genius.com/A-ha-take-on-me-lyrics\">\\n            Take On Me by\\xa0\\u200ba-ha\\n           </a>\\n          </div>\\n         </span>\\n        </div>\\n        <div class=\"metadata_unit metadata_unit--table_row\">\\n         <span class=\"metadata_unit-label\">\\n          Interpolated By\\n         </span>\\n         <span class=\"metadata_unit-info\">\\n          <div class=\"u-x_small_bottom_margin\">\\n           <a href=\"https://genius.com/The-weeknd-faith-lyrics\">\\n            Faith by\\xa0The\\xa0Weeknd\\n           </a>\\n          </div>\\n          <div class=\"u-x_small_bottom_margin\">\\n           <a href=\"https://genius.com/Grandayy-blinding-nights-lyrics\">\\n            Blinding Nights by\\xa0\\u200bgrandayy (Ft.\\xa0Azermage)\\n           </a>\\n          </div>\\n          <div class=\"u-x_small_bottom_margin\">\\n           <a href=\"https://genius.com/Instalok-a-place-to-hide-lyrics\">\\n            A Place To Hide by\\xa0Instalok\\n           </a>\\n          </div>\\n          <div class=\"u-x_small_bottom_margin\">\\n           <a href=\"https://genius.com/Lej-summer-2020-lyrics\">\\n            Summer 2020 by\\xa0L.E.J\\n           </a>\\n          </div>\\n          <div class=\"u-x_small_bottom_margin\">\\n           <a href=\"https://genius.com/The-weeknd-blinding-lights-acapella-lyrics\">\\n            Blinding Lights (Acapella) by\\xa0The\\xa0Weeknd\\n           </a>\\n          </div>\\n          <div class=\"u-x_small_bottom_margin\">\\n           <a href=\"https://genius.com/Cornelius-link-blinding-lights-medieval-style-lyrics\">\\n            Blinding Lights - Medieval Style by\\xa0Cornelius\\xa0Link\\n           </a>\\n          </div>\\n          <div class=\"u-x_small_bottom_margin\">\\n           <a href=\"https://genius.com/Smiley-noi-doi-si-noaptea-lyrics\">\\n            Noi doi și noaptea by\\xa0Smiley\\n           </a>\\n          </div>\\n          <div class=\"u-x_small_bottom_margin\">\\n           <a href=\"https://genius.com/Therealsullyg-mega-meme-medley-otamatone-cover-100-lyrics\">\\n            Mega Meme Medley - Otamatone Cover #100 by\\xa0TheRealSullyG\\n           </a>\\n          </div>\\n         </span>\\n        </div>\\n        <div class=\"metadata_unit metadata_unit--table_row\">\\n         <span class=\"metadata_unit-label\">\\n          Cover By\\n         </span>\\n         <span class=\"metadata_unit-info\">\\n          <div class=\"u-x_small_bottom_margin\">\\n           <a href=\"https://genius.com/Rising-insane-blinding-lights-lyrics\">\\n            Blinding Lights by\\xa0Rising\\xa0Insane\\n           </a>\\n          </div>\\n          <div class=\"u-x_small_bottom_margin\">\\n           <a href=\"https://genius.com/Lauv-blinding-lights-bbc-radio-1-live-lounge-lyrics\">\\n            Blinding Lights (BBC Radio 1 Live Lounge) by\\xa0Lauv\\n           </a>\\n          </div>\\n          <div class=\"u-x_small_bottom_margin\">\\n           <a href=\"https://genius.com/Gugu-blinding-lights-lyrics\">\\n            Blinding Lights by\\xa0Gugu (Ft.\\xa0Cris)\\n           </a>\\n          </div>\\n          <div class=\"u-x_small_bottom_margin\">\\n           <a href=\"https://genius.com/Kidz-bop-kids-blinding-lights-lyrics\">\\n            Blinding Lights by\\xa0KIDZ\\xa0BOP Kids\\n           </a>\\n          </div>\\n          <div class=\"u-x_small_bottom_margin\">\\n           <a href=\"https://genius.com/Fame-on-fire-blinding-lights-lyrics\">\\n            Blinding Lights by\\xa0Fame\\xa0on Fire\\n           </a>\\n          </div>\\n          <div class=\"u-x_small_bottom_margin\">\\n           <a href=\"https://genius.com/Glass-tides-blinding-lights-lyrics\">\\n            Blinding Lights by\\xa0Glass\\xa0Tides\\n           </a>\\n          </div>\\n          <div class=\"u-x_small_bottom_margin\">\\n           <a href=\"https://genius.com/Yungblud-blinding-lights-lyrics\">\\n            Blinding Lights by\\xa0YUNGBLUD\\n           </a>\\n          </div>\\n          <div class=\"u-x_small_bottom_margin\">\\n           <a href=\"https://genius.com/First-to-eleven-blinding-lights-lyrics\">\\n            Blinding Lights by\\xa0First\\xa0to Eleven\\n           </a>\\n          </div>\\n          <div class=\"u-x_small_bottom_margin\">\\n           <a href=\"https://genius.com/Pentatonix-blinding-lights-lyrics\">\\n            Blinding Lights by\\xa0Pentatonix\\n           </a>\\n          </div>\\n          <div class=\"u-x_small_bottom_margin\">\\n           <a href=\"https://genius.com/Christine-and-the-queens-blinding-lights-lyrics\">\\n            Blinding Lights by\\xa0Christine\\xa0and the Queens\\n           </a>\\n          </div>\\n          <div class=\"u-x_small_bottom_margin\">\\n           <a href=\"https://genius.com/Set-for-tomorrow-blinding-lights-lyrics\">\\n            Blinding Lights by\\xa0Set\\xa0For Tomorrow\\n           </a>\\n          </div>\\n          <div class=\"u-x_small_bottom_margin\">\\n           <a href=\"https://genius.com/We-are-the-catalyst-blinding-lights-lyrics\">\\n            Blinding Lights by\\xa0We\\xa0are the Catalyst\\n           </a>\\n          </div>\\n          <div class=\"u-x_small_bottom_margin\">\\n           <a href=\"https://genius.com/Ava-max-blinding-lights-lyrics\">\\n            Blinding Lights by\\xa0Ava\\xa0Max\\n           </a>\\n          </div>\\n          <div class=\"u-x_small_bottom_margin\">\\n           <a href=\"https://genius.com/Kurt-hugo-schneider-and-sam-tsui-2020-mashup-lyrics\">\\n            2020 Mashup by\\xa0Kurt\\xa0Hugo Schneider &amp; Sam Tsui\\n           </a>\\n          </div>\\n          <div class=\"u-x_small_bottom_margin\">\\n           <a href=\"https://genius.com/Urdd-gobaith-cymru-and-tg-lurgan-golaun-dallu-dallta-ag-na-soilse-blinding-lights-yn-gymraeg-as-gaeilge-lyrics\">\\n            Golau’n Dallu / Dallta ag na Soilse  (“Blinding Lights” yn Gymraeg / as Gaeilge) by\\xa0Urdd\\xa0Gobaith Cymru &amp; TG Lurgan (Ft.\\xa0Calum\\xa0Agnew, Iestyn\\xa0Gwyn &amp; Lois\\xa0Wyn Hughes)\\n           </a>\\n          </div>\\n          <div class=\"u-x_small_bottom_margin\">\\n           <a href=\"https://genius.com/Sunsleep-katey-x-krista-and-devin-barrus-blinding-lights-lyrics\">\\n            Blinding Lights by\\xa0Sunsleep,\\xa0Katey x Krista, &amp; Devin Barrus\\n           </a>\\n          </div>\\n          <div class=\"u-x_small_bottom_margin\">\\n           <a href=\"https://genius.com/X-ambassadors-blinding-lights-lyrics\">\\n            Blinding Lights by\\xa0X\\xa0Ambassadors\\n           </a>\\n          </div>\\n          <div class=\"u-x_small_bottom_margin\">\\n           <a href=\"https://genius.com/Holly-henry-blinding-lights-lyrics\">\\n            Blinding Lights by\\xa0Holly\\xa0Henry\\n           </a>\\n          </div>\\n         </span>\\n        </div>\\n        <div class=\"metadata_unit metadata_unit--table_row\">\\n         <span class=\"metadata_unit-label\">\\n          Remixed By\\n         </span>\\n         <span class=\"metadata_unit-info\">\\n          <div class=\"u-x_small_bottom_margin\">\\n           <a href=\"https://genius.com/The-weeknd-blinding-lights-chromatics-remix-lyrics\">\\n            Blinding Lights (Chromatics Remix) by\\xa0The\\xa0Weeknd (Ft.\\xa0Chromatics)\\n           </a>\\n          </div>\\n          <div class=\"u-x_small_bottom_margin\">\\n           <a href=\"https://genius.com/The-weeknd-blinding-lights-major-lazer-remix-lyrics\">\\n            Blinding Lights (Major Lazer Remix) by\\xa0The\\xa0Weeknd\\n           </a>\\n          </div>\\n          <div class=\"u-x_small_bottom_margin\">\\n           <a href=\"https://genius.com/Dripreport-the-weeknd-blinding-lights-indian-version-lyrics\">\\n            The Weeknd - Blinding Lights (Indian Version) by\\xa0DripReport\\n           </a>\\n          </div>\\n          <div class=\"u-x_small_bottom_margin\">\\n           <a href=\"https://genius.com/Illy-blinding-lights-lyrics\">\\n            Blinding Lights by\\xa0Illy\\n           </a>\\n          </div>\\n          <div class=\"u-x_small_bottom_margin\">\\n           <a href=\"https://genius.com/The-weeknd-and-rosalia-blinding-lights-remix-lyrics\">\\n            Blinding Lights (Remix) by\\xa0The\\xa0Weeknd &amp; ROSALÍA\\n           </a>\\n          </div>\\n          <div class=\"u-x_small_bottom_margin\">\\n           <a href=\"https://genius.com/Luvi-inutilismo-2020-em-uma-musica-lyrics\">\\n            2020 EM UMA MÚSICA by\\xa0LuVi\\xa0(Inutilismo)\\n           </a>\\n          </div>\\n          <div class=\"u-x_small_bottom_margin\">\\n           <a href=\"https://genius.com/Theboynamedsimba-ndakachemera-lyrics\">\\n            Ndakachemera by\\xa0THEBOYNAMEDSIMBA (Ft.\\xa0Txwxndx)\\n           </a>\\n          </div>\\n         </span>\\n        </div>\\n        <div class=\"metadata_unit metadata_unit--table_row\">\\n         <span class=\"metadata_unit-label\">\\n          Performed Live As\\n         </span>\\n         <span class=\"metadata_unit-info\">\\n          <div class=\"u-x_small_bottom_margin\">\\n           <a href=\"https://genius.com/The-weeknd-super-bowl-lv-halftime-show-lyrics\">\\n            Super Bowl LV Halftime Show by\\xa0The\\xa0Weeknd (Ft.\\xa0NFL)\\n           </a>\\n          </div>\\n         </span>\\n        </div>\\n       </div>\\n      </div>\\n      <div initial-content-for=\"album\">\\n       <div class=\"u-xx_large_vertical_margins\">\\n        <div class=\"song_album u-bottom_margin\">\\n         <a class=\"song_album-album_art\" href=\"https://genius.com/albums/The-weeknd/After-hours\" title=\"After Hours\">\\n          <img alt=\"Https%3a%2f%2fimages\" src=\"https://t2.genius.com/unsafe/64x64/https%3A%2F%2Fimages.genius.com%2F9d35a5dff10090e6c1d5e077932cea99.1000x1000x1.jpg\" srcset=\"https://t2.genius.com/unsafe/128x128/https%3A%2F%2Fimages.genius.com%2F9d35a5dff10090e6c1d5e077932cea99.1000x1000x1.jpg 2x\"/>\\n         </a>\\n         <div class=\"song_album-info\">\\n          <a class=\"song_album-info-title\" href=\"https://genius.com/albums/The-weeknd/After-hours\" title=\"After Hours\">\\n           After Hours\\n          </a>\\n          <a class=\"song_album-info-artist\" href=\"https://genius.com/artists/The-weeknd\" title=\"After Hours\">\\n           The Weeknd\\n          </a>\\n         </div>\\n        </div>\\n        <div class=\"track_listing track_listing--columns\">\\n         <div>\\n          <div class=\"track_listing-track\">\\n           <span class=\"track_listing-track_number\">\\n            1.\\n           </span>\\n           <a href=\"https://genius.com/The-weeknd-alone-again-lyrics\" title=\"Alone Again\">\\n            Alone Again\\n           </a>\\n          </div>\\n         </div>\\n         <div>\\n          <div class=\"track_listing-track\">\\n           <span class=\"track_listing-track_number\">\\n            2.\\n           </span>\\n           <a href=\"https://genius.com/The-weeknd-too-late-lyrics\" title=\"Too Late\">\\n            Too Late\\n           </a>\\n          </div>\\n         </div>\\n         <div>\\n          <div class=\"track_listing-track\">\\n           <span class=\"track_listing-track_number\">\\n            3.\\n           </span>\\n           <a href=\"https://genius.com/The-weeknd-hardest-to-love-lyrics\" title=\"Hardest To Love\">\\n            Hardest To Love\\n           </a>\\n          </div>\\n         </div>\\n         <div>\\n          <div class=\"track_listing-track\">\\n           <span class=\"track_listing-track_number\">\\n            4.\\n           </span>\\n           <a href=\"https://genius.com/The-weeknd-scared-to-live-lyrics\" title=\"Scared To Live\">\\n            Scared To Live\\n           </a>\\n          </div>\\n         </div>\\n         <div>\\n          <div class=\"track_listing-track\">\\n           <span class=\"track_listing-track_number\">\\n            5.\\n           </span>\\n           <a href=\"https://genius.com/The-weeknd-snowchild-lyrics\" title=\"Snowchild\">\\n            Snowchild\\n           </a>\\n          </div>\\n         </div>\\n         <div>\\n          <div class=\"track_listing-track\">\\n           <span class=\"track_listing-track_number\">\\n            6.\\n           </span>\\n           <a href=\"https://genius.com/The-weeknd-escape-from-la-lyrics\" title=\"Escape From LA\">\\n            Escape From LA\\n           </a>\\n          </div>\\n         </div>\\n         <div>\\n          <div class=\"track_listing-track\">\\n           <span class=\"track_listing-track_number\">\\n            7.\\n           </span>\\n           <a href=\"https://genius.com/The-weeknd-heartless-lyrics\" title=\"Heartless\">\\n            Heartless\\n           </a>\\n          </div>\\n         </div>\\n         <div>\\n          <div class=\"track_listing-track\">\\n           <span class=\"track_listing-track_number\">\\n            8.\\n           </span>\\n           <a href=\"https://genius.com/The-weeknd-faith-lyrics\" title=\"Faith\">\\n            Faith\\n           </a>\\n          </div>\\n         </div>\\n         <div>\\n          <div class=\"track_listing-track track_listing-track--current\">\\n           <span class=\"track_listing-track_number\">\\n            9.\\n           </span>\\n           <span>\\n            Blinding Lights\\n           </span>\\n          </div>\\n         </div>\\n         <div>\\n          <div class=\"track_listing-track\">\\n           <span class=\"track_listing-track_number\">\\n            10.\\n           </span>\\n           <a href=\"https://genius.com/The-weeknd-in-your-eyes-lyrics\" title=\"In Your Eyes\">\\n            In Your Eyes\\n           </a>\\n          </div>\\n         </div>\\n         <div>\\n          <div class=\"track_listing-track\">\\n           <span class=\"track_listing-track_number\">\\n            11.\\n           </span>\\n           <a href=\"https://genius.com/The-weeknd-save-your-tears-lyrics\" title=\"Save Your Tears\">\\n            Save Your Tears\\n           </a>\\n          </div>\\n         </div>\\n         <div>\\n          <div class=\"track_listing-track\">\\n           <span class=\"track_listing-track_number\">\\n            12.\\n           </span>\\n           <a href=\"https://genius.com/The-weeknd-repeat-after-me-interlude-lyrics\" title=\"Repeat After Me (Interlude)\">\\n            Repeat After Me (Interlude)\\n           </a>\\n          </div>\\n         </div>\\n         <div>\\n          <div class=\"track_listing-track\">\\n           <span class=\"track_listing-track_number\">\\n            13.\\n           </span>\\n           <a href=\"https://genius.com/The-weeknd-after-hours-lyrics\" title=\"After Hours\">\\n            After Hours\\n           </a>\\n          </div>\\n         </div>\\n         <div>\\n          <div class=\"track_listing-track\">\\n           <span class=\"track_listing-track_number\">\\n            14.\\n           </span>\\n           <a href=\"https://genius.com/The-weeknd-until-i-bleed-out-lyrics\" title=\"Until I Bleed Out\">\\n            Until I Bleed Out\\n           </a>\\n          </div>\\n         </div>\\n        </div>\\n       </div>\\n      </div>\\n     </div>\\n    </div>\\n   </div>\\n   <ul class=\"breadcrumbs\" itemscope=\"\" itemtype=\"https://schema.org/BreadcrumbList\">\\n    <li class=\"breadcrumb\" itemprop=\"itemListElement\" itemscope=\"\" itemtype=\"https://schema.org/ListItem\">\\n     <a href=\"https://genius.com/\" itemprop=\"item\">\\n      <span itemprop=\"name\">\\n       Home\\n      </span>\\n      <meta content=\"1\" itemprop=\"position\"/>\\n     </a>\\n    </li>\\n    <li class=\"breadcrumb\" itemprop=\"itemListElement\" itemscope=\"\" itemtype=\"https://schema.org/ListItem\">\\n     <a href=\"https://genius.com/artists-index/w\" itemprop=\"item\">\\n      <span itemprop=\"name\">\\n       W\\n      </span>\\n      <meta content=\"1\" itemprop=\"position\"/>\\n     </a>\\n    </li>\\n    <li class=\"breadcrumb\" itemprop=\"itemListElement\" itemscope=\"\" itemtype=\"https://schema.org/ListItem\">\\n     <a href=\"https://genius.com/artists/The-weeknd\" itemprop=\"item\">\\n      <span itemprop=\"name\">\\n       The Weeknd\\n      </span>\\n      <meta content=\"1\" itemprop=\"position\"/>\\n     </a>\\n    </li>\\n    <li class=\"breadcrumb breadcrumb-current_page\" itemprop=\"itemListElement\" itemscope=\"\" itemtype=\"https://schema.org/ListItem\">\\n     <a href=\"https://genius.com/The-weeknd-blinding-lights-lyrics\" itemprop=\"item\">\\n      <span itemprop=\"name\">\\n       Blinding Lights Lyrics\\n      </span>\\n      <meta content=\"1\" itemprop=\"position\"/>\\n     </a>\\n    </li>\\n   </ul>\\n  </ng-non-bindable>\\n </routable-page>\\n <div class=\"page_footer page_footer--padding-for-sticky-player\">\\n  <div class=\"footer\">\\n   <div>\\n    <a href=\"/about\">\\n     About Genius\\n    </a>\\n    <a href=\"/contributor_guidelines\">\\n     Contributor Guidelines\\n    </a>\\n    <a href=\"/press\" target=\"_blank\">\\n     Press\\n    </a>\\n    <a href=\"mailto:inquiry@genius.com\">\\n     Advertise\\n    </a>\\n    <a href=\"https://eventspace.genius.com/\">\\n     Event Space\\n    </a>\\n   </div>\\n   <div>\\n    <a href=\"/static/privacy_policy\" rel=\"nofollow\" target=\"_blank\">\\n     Privacy Policy\\n    </a>\\n    <a href=\"/static/licensing\" rel=\"nofollow\" target=\"_blank\">\\n     Licensing\\n    </a>\\n    <a href=\"/jobs\">\\n     Jobs\\n    </a>\\n    <a href=\"/developers\">\\n     Developers\\n    </a>\\n    <a href=\"/static/terms\" rel=\"nofollow\" target=\"_blank\">\\n     Terms of Use\\n    </a>\\n    <a href=\"/static/copyright\" rel=\"nofollow\" target=\"_blank\">\\n     Copyright Policy\\n    </a>\\n    <a href=\"/feedback/new\" rel=\"nofollow\">\\n     Contact us\\n    </a>\\n    <a href=\"/static/ccpa\" rel=\"nofollow\" target=\"_blank\">\\n     Do Not Sell My Personal Information\\n    </a>\\n    <a class=\"facebox\" href=\"/login\" rel=\"nofollow\">\\n     Sign in\\n    </a>\\n   </div>\\n   <div>\\n    <span class=\"footer-copyright\">\\n     © 2021 Genius Media Group Inc.\\n    </span>\\n   </div>\\n  </div>\\n  <div class=\"footer footer--secondary\">\\n   <a class=\"footer-artist_links_label\" href=\"/verified-artists\">\\n    Verified Artists\\n   </a>\\n   <span class=\"footer-artist_links_label\">\\n    All Artists:\\n   </span>\\n   <ul class=\"characters_index_list\">\\n    <li class=\"character_index_list-element\">\\n     <a class=\"character_index_list-link\" href=\"https://genius.com/artists-index/a\">\\n      A\\n     </a>\\n    </li>\\n    <li class=\"character_index_list-element\">\\n     <a class=\"character_index_list-link\" href=\"https://genius.com/artists-index/b\">\\n      B\\n     </a>\\n    </li>\\n    <li class=\"character_index_list-element\">\\n     <a class=\"character_index_list-link\" href=\"https://genius.com/artists-index/c\">\\n      C\\n     </a>\\n    </li>\\n    <li class=\"character_index_list-element\">\\n     <a class=\"character_index_list-link\" href=\"https://genius.com/artists-index/d\">\\n      D\\n     </a>\\n    </li>\\n    <li class=\"character_index_list-element\">\\n     <a class=\"character_index_list-link\" href=\"https://genius.com/artists-index/e\">\\n      E\\n     </a>\\n    </li>\\n    <li class=\"character_index_list-element\">\\n     <a class=\"character_index_list-link\" href=\"https://genius.com/artists-index/f\">\\n      F\\n     </a>\\n    </li>\\n    <li class=\"character_index_list-element\">\\n     <a class=\"character_index_list-link\" href=\"https://genius.com/artists-index/g\">\\n      G\\n     </a>\\n    </li>\\n    <li class=\"character_index_list-element\">\\n     <a class=\"character_index_list-link\" href=\"https://genius.com/artists-index/h\">\\n      H\\n     </a>\\n    </li>\\n    <li class=\"character_index_list-element\">\\n     <a class=\"character_index_list-link\" href=\"https://genius.com/artists-index/i\">\\n      I\\n     </a>\\n    </li>\\n    <li class=\"character_index_list-element\">\\n     <a class=\"character_index_list-link\" href=\"https://genius.com/artists-index/j\">\\n      J\\n     </a>\\n    </li>\\n    <li class=\"character_index_list-element\">\\n     <a class=\"character_index_list-link\" href=\"https://genius.com/artists-index/k\">\\n      K\\n     </a>\\n    </li>\\n    <li class=\"character_index_list-element\">\\n     <a class=\"character_index_list-link\" href=\"https://genius.com/artists-index/l\">\\n      L\\n     </a>\\n    </li>\\n    <li class=\"character_index_list-element\">\\n     <a class=\"character_index_list-link\" href=\"https://genius.com/artists-index/m\">\\n      M\\n     </a>\\n    </li>\\n    <li class=\"character_index_list-element\">\\n     <a class=\"character_index_list-link\" href=\"https://genius.com/artists-index/n\">\\n      N\\n     </a>\\n    </li>\\n    <li class=\"character_index_list-element\">\\n     <a class=\"character_index_list-link\" href=\"https://genius.com/artists-index/o\">\\n      O\\n     </a>\\n    </li>\\n    <li class=\"character_index_list-element\">\\n     <a class=\"character_index_list-link\" href=\"https://genius.com/artists-index/p\">\\n      P\\n     </a>\\n    </li>\\n    <li class=\"character_index_list-element\">\\n     <a class=\"character_index_list-link\" href=\"https://genius.com/artists-index/q\">\\n      Q\\n     </a>\\n    </li>\\n    <li class=\"character_index_list-element\">\\n     <a class=\"character_index_list-link\" href=\"https://genius.com/artists-index/r\">\\n      R\\n     </a>\\n    </li>\\n    <li class=\"character_index_list-element\">\\n     <a class=\"character_index_list-link\" href=\"https://genius.com/artists-index/s\">\\n      S\\n     </a>\\n    </li>\\n    <li class=\"character_index_list-element\">\\n     <a class=\"character_index_list-link\" href=\"https://genius.com/artists-index/t\">\\n      T\\n     </a>\\n    </li>\\n    <li class=\"character_index_list-element\">\\n     <a class=\"character_index_list-link\" href=\"https://genius.com/artists-index/u\">\\n      U\\n     </a>\\n    </li>\\n    <li class=\"character_index_list-element\">\\n     <a class=\"character_index_list-link\" href=\"https://genius.com/artists-index/v\">\\n      V\\n     </a>\\n    </li>\\n    <li class=\"character_index_list-element\">\\n     <a class=\"character_index_list-link\" href=\"https://genius.com/artists-index/w\">\\n      W\\n     </a>\\n    </li>\\n    <li class=\"character_index_list-element\">\\n     <a class=\"character_index_list-link\" href=\"https://genius.com/artists-index/x\">\\n      X\\n     </a>\\n    </li>\\n    <li class=\"character_index_list-element\">\\n     <a class=\"character_index_list-link\" href=\"https://genius.com/artists-index/y\">\\n      Y\\n     </a>\\n    </li>\\n    <li class=\"character_index_list-element\">\\n     <a class=\"character_index_list-link\" href=\"https://genius.com/artists-index/z\">\\n      Z\\n     </a>\\n    </li>\\n    <li class=\"character_index_list-element\">\\n     <a class=\"character_index_list-link\" href=\"https://genius.com/artists-index/0\">\\n      #\\n     </a>\\n    </li>\\n   </ul>\\n  </div>\\n </div>\\n <img height=\"0\" src=\"https://loadus.exelator.com/load/?g=4&amp;j=0&amp;p=1183&amp;page-album_ids=%5B477262%5D%2C%5B618207%5D%2C%5B624453%5D%2C%5B626508%5D%2C%5B661310%5D%2C%5B665565%5D%2C%5B676980%5D%2C%5B728039%5D%2C%5B734671%5D&amp;page-album_in_top_10=false&amp;page-albums=After+Hours%2CAfter+Hours+%28Deluxe%29%2CNOW+That%E2%80%99s+What+I+Call+Music%21+105+%5BUK%5D%2CNOW+That%E2%80%99s+What+I+Call+Music%21+74+%5BUS%5D%2CNBA+2K21+Current+Gen+Soundtrack%2CJust+Dance+2021+Official+Tracklist%2CBlinding+Lights%2CThe+Highlights%2CMemepocalypse+Now%3A+Part+1+-+Complete+Soundtrack&amp;page-artist_ids=%5B2358%5D&amp;page-artist_in_top_10=false&amp;page-artists=The+Weeknd&amp;page-genre_ids=%5B2289%5D%2C%5B1532%5D%2C%5B3041%5D%2C%5B16%5D%2C%5B2873%5D%2C%5B1589%5D%2C%5B3434%5D&amp;page-genres=Synth-Pop%2CDance%2CSinger-Songwriter%2CPop+Genius%2CNu+Disco%2CNew+Wave%2CSynthwave&amp;page-in_top_10=false&amp;page-new_release=false&amp;page-release_decade=2010&amp;page-release_month=201911&amp;page-release_year=2019&amp;page-type=song&amp;user_signed_in=false\" style=\"display: block;\" width=\"0\"/>\\n <script type=\"text/javascript\">\\n  _qevents.push({ qacct: \"p-f3CPQ6vHckedE\"});\\n </script>\\n <noscript>\\n  <div style=\"display: none;\">\\n   <img alt=\"Quantcast\" height=\"1\" src=\"http://pixel.quantserve.com/pixel/p-f3CPQ6vHckedE.gif\" width=\"1\">\\n   </img>\\n  </div>\\n </noscript>\\n <script type=\"text/javascript\">\\n  var _sf_async_config={};\\n\\n  _sf_async_config.uid = 3877;\\n  _sf_async_config.domain = \\'genius.com\\';\\n  _sf_async_config.title = \\'The\\xa0Weeknd – Blinding Lights Lyrics | Genius Lyrics\\';\\n  _sf_async_config.sections = \\'songs,tag:pop\\';\\n  _sf_async_config.authors = \\'The Weeknd\\';\\n\\n  var _cbq = window._cbq || [];\\n\\n  (function(){\\n    function loadChartbeat() {\\n      window._sf_endpt=(new Date()).getTime();\\n      var e = document.createElement(\\'script\\');\\n      e.setAttribute(\\'language\\', \\'javascript\\');\\n      e.setAttribute(\\'type\\', \\'text/javascript\\');\\n      e.setAttribute(\\'src\\', \\'https://static.chartbeat.com/js/chartbeat.js\\');\\n      document.body.appendChild(e);\\n    }\\n    var oldonload = window.onload;\\n    window.onload = (typeof window.onload != \\'function\\') ?\\n       loadChartbeat : function() { oldonload(); loadChartbeat(); };\\n  })();\\n </script>\\n <!-- Begin comScore Tag -->\\n <script>\\n  var _comscore = _comscore || [];\\n  _comscore.push({ c1: \"2\", c2: \"17151659\" });\\n  (function() {\\n    var s = document.createElement(\"script\"), el = document.getElementsByTagName(\"script\")[0]; s.async = true;\\n    s.src = (document.location.protocol == \"https:\" ? \"https://sb\" : \"http://b\") + \".scorecardresearch.com/beacon.js\";\\n    el.parentNode.insertBefore(s, el);\\n  })();\\n </script>\\n <noscript>\\n  <img src=\"http://b.scorecardresearch.com/p?c1=2&amp;c2=17151659&amp;cv=2.0&amp;cj=1\"/>\\n </noscript>\\n <!-- End comScore Tag -->\\n <script>\\n  !function(f,b,e,v,n,t,s)\\n  {if(f.fbq)return;n=f.fbq=function(){n.callMethod?\\n  n.callMethod.apply(n,arguments):n.queue.push(arguments)};\\n  if(!f._fbq)f._fbq=n;n.push=n;n.loaded=!0;n.version=\\'2.0\\';\\n  n.queue=[];t=b.createElement(e);t.async=!0;\\n  t.src=v;s=b.getElementsByTagName(e)[0];\\n  s.parentNode.insertBefore(t,s)}(window, document,\\'script\\',\\n  \\'https://connect.facebook.net/en_US/fbevents.js\\');\\n  fbq(\\'init\\', \\'201983886890479\\');\\n  fbq(\\'track\\', \\'PageView\\');\\n </script>\\n <noscript>\\n  <img height=\"1\" src=\"https://www.facebook.com/tr?id=201983886890479&amp;ev=PageView&amp;noscript=1\" style=\"display:none\" width=\"1\"/>\\n </noscript>\\n <script type=\"text/javascript\">\\n  window._tfa = window._tfa || [];\\n  window._tfa.push({notify: \\'event\\', name: \\'page_view\\', id: 1301520});\\n  !function (t, f, a, x) {\\n         if (!document.getElementById(x)) {\\n            t.async = 1;t.src = a;t.id=x;f.parentNode.insertBefore(t, f);\\n         }\\n  }(document.createElement(\\'script\\'),\\n  document.getElementsByTagName(\\'script\\')[0],\\n  \\'//cdn.taboola.com/libtrc/unip/1301520/tfa.js\\',\\n  \\'tb_tfa_script\\');\\n </script>\\n <noscript>\\n  <img height=\"0\" src=\"https://trc.taboola.com/1301520/log/3/unip?en=page_view\" style=\"display:none\" width=\"0\"/>\\n </noscript>\\n <script type=\"text/javascript\">\\n  (function(e,b){if(!b.__SV){var a,f,i,g;window.mixpanel=b;a=e.createElement(\"script\");a.type=\"text/javascript\";a.async=!0;a.src=(\"https:\"===e.location.protocol?\"https:\":\"http:\")+\\'//cdn.mxpnl.com/libs/mixpanel-2.2.min.js\\';f=e.getElementsByTagName(\"script\")[0];f.parentNode.insertBefore(a,f);b._i=[];b.init=function(a,e,d){function f(b,h){var a=h.split(\".\");2==a.length&&(b=b[a[0]],h=a[1]);b[h]=function(){b.push([h].concat(Array.prototype.slice.call(arguments,0)))}}var c=b;\"undefined\"!==\\ntypeof d?c=b[d]=[]:d=\"mixpanel\";c.people=c.people||[];c.toString=function(b){var a=\"mixpanel\";\"mixpanel\"!==d&&(a+=\".\"+d);b||(a+=\" (stub)\");return a};c.people.toString=function(){return c.toString(1)+\".people (stub)\"};i=\"disable track track_pageview track_links track_forms register register_once alias unregister identify name_tag set_config people.set people.set_once people.increment people.append people.track_charge people.clear_charges people.delete_user\".split(\" \");for(g=0;g<i.length;g++)f(c,i[g]);\\nb._i.push([a,e,d])};b.__SV=1.2}})(document,window.mixpanel||[]);\\nmixpanel.init(\\'77967c52dc38186cc1aadebdd19e2a82\\');\\n </script>\\n</body>\\n'"
      ]
     },
     "execution_count": 3,
     "metadata": {},
     "output_type": "execute_result"
    }
   ],
   "source": [
    "soup.body.prettify()"
   ]
  },
  {
   "cell_type": "markdown",
   "metadata": {},
   "source": [
    "Yikes! That's a very ugly output! Digging through the code, we find that the lyrics are in the following part\n",
    "`<div, class=\"song_body-lyrics\"></div>` so we'll try to find the lyrics from there.\n",
    "One point of note is that the website uses cache and cookies heavily. As a result, it loads different HTML elements and tags which leads to different wrappers containing the song lyrics which require different formatting. If the code below doesn't work, then re-run the entire notebook until it does. I still have to find a way to get around this issue."
   ]
  },
  {
   "cell_type": "code",
   "execution_count": 4,
   "metadata": {
    "scrolled": true,
    "tags": []
   },
   "outputs": [
    {
     "name": "stdout",
     "output_type": "stream",
     "text": [
      "\n",
      "Blinding Lights Lyrics\n",
      "\n",
      "\n",
      "\n",
      "[Intro]\n",
      "Yeah\n",
      "\n",
      "[Verse 1]\n",
      "I've been tryna call\n",
      "I've been on my own for long enough\n",
      "Maybe you can show me how to love, maybe\n",
      "I'm going through withdrawals\n",
      "You don't even have to do too much\n",
      "You can turn me on with just a touch, baby\n",
      "\n",
      "[Pre-Chorus]\n",
      "I look around and\n",
      "Sin City's cold and empty (Oh)\n",
      "No one's around to judge me (Oh)\n",
      "I can't see clearly when you're gone\n",
      "\n",
      "[Chorus]\n",
      "I said, ooh, I'm blinded by the lights\n",
      "No, I can't sleep until I feel your touch\n",
      "I said, ooh, I'm drowning in the night\n",
      "Oh, when I'm like this, you're the one I trust\n",
      "Hey, hey, hey\n",
      "\n",
      "[Verse 2]\n",
      "I'm running out of time\n",
      "'Cause I can see the sun light up the sky\n",
      "So I hit the road in overdrive, baby, oh\n",
      "\n",
      "[Pre-Chorus]\n",
      "The city's cold and empty (Oh)\n",
      "No one's around to judge me (Oh)\n",
      "I can't see clearly when you're gone\n",
      "\n",
      "[Chorus]\n",
      "I said, ooh, I'm blinded by the lights\n",
      "No, I can't sleep until I feel your touch\n",
      "I said, ooh, I'm drowning in the night\n",
      "Oh, when I'm like this, you're the one I trust\n",
      "\n",
      "[Bridge]\n",
      "I'm just calling back to let you know (Back to let you know)\n",
      "I could never say it on the phone (Say it on the phone)\n",
      "Will never let you go this time (Ooh)\n",
      "\n",
      "[Chorus]\n",
      "I said, ooh, I'm blinded by the lights\n",
      "No, I can't sleep until I feel your touch\n",
      "Hey, hey, hey\n",
      "Hey, hey, hey\n",
      "\n",
      "[Outro]\n",
      "I said, ooh, I'm blinded by the lights\n",
      "No, I can't sleep until I feel your touch\n",
      "\n",
      "\n",
      "\n",
      "\n",
      "\n",
      "More on Genius\n",
      "\n",
      "\n",
      "\n",
      "The Weeknd’s “Blinding Lights” Is The First Song In History To Spend A Full Year In The Top 10\n",
      "\n",
      "\n",
      "\n",
      "\n",
      "\n",
      "Rosalía Hops On The Weeknd’s “Blinding Lights” Remix\n",
      "\n",
      "\n",
      "\n",
      "\n",
      "\n",
      "The Weeknd Will Perform At The 2021 Super Bowl Halftime Show\n",
      "\n",
      "\n",
      "\n",
      "\n",
      "\n"
     ]
    }
   ],
   "source": [
    "lyrics_div = soup.find('div', class_='song_body-lyrics')\n",
    "lyrics = lyrics_div.get_text()\n",
    "print(lyrics)"
   ]
  },
  {
   "cell_type": "markdown",
   "metadata": {},
   "source": [
    "Looks like we need to clean quite a bit actually. First let's get rid of the pesky things in the \"\\[\\]\" (verses, chorus e.t.c). This is taken from Nick Pai's code."
   ]
  },
  {
   "cell_type": "code",
   "execution_count": 5,
   "metadata": {
    "scrolled": true,
    "tags": []
   },
   "outputs": [
    {
     "name": "stdout",
     "output_type": "stream",
     "text": [
      "\n",
      "Blinding Lights Lyrics\n",
      "\n",
      "\n",
      "\n",
      "\n",
      "Yeah\n",
      "\n",
      "\n",
      "I've been tryna call\n",
      "I've been on my own for long enough\n",
      "Maybe you can show me how to love, maybe\n",
      "I'm going through withdrawals\n",
      "You don't even have to do too much\n",
      "You can turn me on with just a touch, baby\n",
      "\n",
      "\n",
      "I look around and\n",
      "Sin City's cold and empty \n",
      "No one's around to judge me \n",
      "I can't see clearly when you're gone\n",
      "\n",
      "\n",
      "I said, ooh, I'm blinded by the lights\n",
      "No, I can't sleep until I feel your touch\n",
      "I said, ooh, I'm drowning in the night\n",
      "Oh, when I'm like this, you're the one I trust\n",
      "Hey, hey, hey\n",
      "\n",
      "\n",
      "I'm running out of time\n",
      "'Cause I can see the sun light up the sky\n",
      "So I hit the road in overdrive, baby, oh\n",
      "\n",
      "\n",
      "The city's cold and empty \n",
      "No one's around to judge me \n",
      "I can't see clearly when you're gone\n",
      "\n",
      "\n",
      "I said, ooh, I'm blinded by the lights\n",
      "No, I can't sleep until I feel your touch\n",
      "I said, ooh, I'm drowning in the night\n",
      "Oh, when I'm like this, you're the one I trust\n",
      "\n",
      "\n",
      "I'm just calling back to let you know \n",
      "I could never say it on the phone \n",
      "Will never let you go this time \n",
      "\n",
      "\n",
      "I said, ooh, I'm blinded by the lights\n",
      "No, I can't sleep until I feel your touch\n",
      "Hey, hey, hey\n",
      "Hey, hey, hey\n",
      "\n",
      "\n",
      "I said, ooh, I'm blinded by the lights\n",
      "No, I can't sleep until I feel your touch\n",
      "\n",
      "\n",
      "\n",
      "\n",
      "\n",
      "More on Genius\n",
      "\n",
      "\n",
      "\n",
      "The Weeknd’s “Blinding Lights” Is The First Song In History To Spend A Full Year In The Top 10\n",
      "\n",
      "\n",
      "\n",
      "\n",
      "\n",
      "Rosalía Hops On The Weeknd’s “Blinding Lights” Remix\n",
      "\n",
      "\n",
      "\n",
      "\n",
      "\n",
      "The Weeknd Will Perform At The 2021 Super Bowl Halftime Show\n",
      "\n",
      "\n",
      "\n",
      "\n",
      "\n"
     ]
    }
   ],
   "source": [
    "lyrics = re.sub(r'[\\(\\[].*?[\\)\\]]', '', lyrics)\n",
    "print(lyrics)"
   ]
  },
  {
   "cell_type": "markdown",
   "metadata": {},
   "source": [
    "Better, but now we have two things to remove. The Title and the footnote on \"More on Genius\". So let's do that."
   ]
  },
  {
   "cell_type": "code",
   "execution_count": 6,
   "metadata": {},
   "outputs": [],
   "source": [
    "# Removing the song name\n",
    "lyrics = lyrics.split('Lyrics', 1)[1]\n",
    "# Removing the More on Genius Tag\n",
    "lyrics = lyrics.split('More on Genius', 1)[0]"
   ]
  },
  {
   "cell_type": "code",
   "execution_count": 7,
   "metadata": {
    "scrolled": true,
    "tags": []
   },
   "outputs": [
    {
     "name": "stdout",
     "output_type": "stream",
     "text": [
      "\n",
      "\n",
      "\n",
      "\n",
      "\n",
      "Yeah\n",
      "\n",
      "\n",
      "I've been tryna call\n",
      "I've been on my own for long enough\n",
      "Maybe you can show me how to love, maybe\n",
      "I'm going through withdrawals\n",
      "You don't even have to do too much\n",
      "You can turn me on with just a touch, baby\n",
      "\n",
      "\n",
      "I look around and\n",
      "Sin City's cold and empty \n",
      "No one's around to judge me \n",
      "I can't see clearly when you're gone\n",
      "\n",
      "\n",
      "I said, ooh, I'm blinded by the lights\n",
      "No, I can't sleep until I feel your touch\n",
      "I said, ooh, I'm drowning in the night\n",
      "Oh, when I'm like this, you're the one I trust\n",
      "Hey, hey, hey\n",
      "\n",
      "\n",
      "I'm running out of time\n",
      "'Cause I can see the sun light up the sky\n",
      "So I hit the road in overdrive, baby, oh\n",
      "\n",
      "\n",
      "The city's cold and empty \n",
      "No one's around to judge me \n",
      "I can't see clearly when you're gone\n",
      "\n",
      "\n",
      "I said, ooh, I'm blinded by the lights\n",
      "No, I can't sleep until I feel your touch\n",
      "I said, ooh, I'm drowning in the night\n",
      "Oh, when I'm like this, you're the one I trust\n",
      "\n",
      "\n",
      "I'm just calling back to let you know \n",
      "I could never say it on the phone \n",
      "Will never let you go this time \n",
      "\n",
      "\n",
      "I said, ooh, I'm blinded by the lights\n",
      "No, I can't sleep until I feel your touch\n",
      "Hey, hey, hey\n",
      "Hey, hey, hey\n",
      "\n",
      "\n",
      "I said, ooh, I'm blinded by the lights\n",
      "No, I can't sleep until I feel your touch\n",
      "\n",
      "\n",
      "\n",
      "\n",
      "\n",
      "\n"
     ]
    }
   ],
   "source": [
    "print(lyrics)"
   ]
  },
  {
   "cell_type": "markdown",
   "metadata": {},
   "source": [
    "Great! Now we just need to remove all of that unnecessary whitespace! Again, borrowing from Nick Pai's code"
   ]
  },
  {
   "cell_type": "code",
   "execution_count": 8,
   "metadata": {},
   "outputs": [],
   "source": [
    "# Removing empty lines\n",
    "lyrics = os.linesep.join([s for s in lyrics.splitlines() if s])\n",
    "# Removing new lines and replacing with ;\n",
    "lyrics = lyrics.replace('\\r\\n','; ')"
   ]
  },
  {
   "cell_type": "code",
   "execution_count": 9,
   "metadata": {},
   "outputs": [
    {
     "name": "stdout",
     "output_type": "stream",
     "text": [
      "Yeah; I've been tryna call; I've been on my own for long enough; Maybe you can show me how to love, maybe; I'm going through withdrawals; You don't even have to do too much; You can turn me on with just a touch, baby; I look around and; Sin City's cold and empty ; No one's around to judge me ; I can't see clearly when you're gone; I said, ooh, I'm blinded by the lights; No, I can't sleep until I feel your touch; I said, ooh, I'm drowning in the night; Oh, when I'm like this, you're the one I trust; Hey, hey, hey; I'm running out of time; 'Cause I can see the sun light up the sky; So I hit the road in overdrive, baby, oh; The city's cold and empty ; No one's around to judge me ; I can't see clearly when you're gone; I said, ooh, I'm blinded by the lights; No, I can't sleep until I feel your touch; I said, ooh, I'm drowning in the night; Oh, when I'm like this, you're the one I trust; I'm just calling back to let you know ; I could never say it on the phone ; Will never let you go this time ; I said, ooh, I'm blinded by the lights; No, I can't sleep until I feel your touch; Hey, hey, hey; Hey, hey, hey; I said, ooh, I'm blinded by the lights; No, I can't sleep until I feel your touch\n"
     ]
    }
   ],
   "source": [
    "print(lyrics)"
   ]
  },
  {
   "cell_type": "markdown",
   "metadata": {},
   "source": [
    "Perfect! That looks super clean! Now let's dump all of this into an automated function!"
   ]
  },
  {
   "cell_type": "markdown",
   "metadata": {},
   "source": [
    "### Creating the function"
   ]
  },
  {
   "cell_type": "code",
   "execution_count": 10,
   "metadata": {},
   "outputs": [],
   "source": [
    "def get_lyrics(title, artist):\n",
    "    if \" \" in title:\n",
    "        title_name = str(title.replace(' ','-'))\n",
    "    else:\n",
    "        title_name = str(title)\n",
    "        \n",
    "    if \" \" in artist:\n",
    "        artist_name = str(artist.replace(' ','-'))\n",
    "    else:\n",
    "        artist_name = str(artist)\n",
    "     \n",
    "    wlyrics_div = None\n",
    "    \n",
    "    while lyrics_div == None:\n",
    "        url = 'https://genius.com/' + artist_name + '-' + title_name + '-lyrics'\n",
    "        header = {'user-agent':'Mozilla/5.0 (Windows NT 10.0; Win64; x64) AppleWebKit/537.36 (KHTML, like Gecko) Chrome/90.0.4430.212 Safari/537.36'}\n",
    "        req = Request(url, headers = header)\n",
    "        html = urlopen(req)\n",
    "        soup = BeautifulSoup(html, 'html.parser')\n",
    "\n",
    "        # Getting Song Lyrics Div\n",
    "        lyrics_div = soup.find('div', class_='song_body-lyrics')\n",
    "        \n",
    "    # lyrics_div = soup.find('div', {'class':'SongPageGrid-sc-1vi6xda-0 DGVcp Lyrics__Root-sc-1ynbvzw-0 kkHBOZ'})\n",
    "    \n",
    "    lyrics = lyrics_div.get_text()\n",
    "    \n",
    "    # Removing stuff in [] (verses, chorus etc)\n",
    "    lyrics = re.sub(r'[\\(\\[].*?[\\)\\]]', '', lyrics)\n",
    "    # Removing the song name\n",
    "    lyrics = lyrics.split('Lyrics', 1)[1]\n",
    "    # Removing the More on Genius Tag\n",
    "    lyrics = lyrics.split('More on Genius', 1)[0]\n",
    "    # Removing empty lines\n",
    "    lyrics = os.linesep.join([s for s in lyrics.splitlines() if s])\n",
    "    # Removing new lines and replacing with ;\n",
    "    lyrics = lyrics.replace('\\r\\n','; ')\n",
    "    \n",
    "    return lyrics"
   ]
  },
  {
   "cell_type": "markdown",
   "metadata": {},
   "source": [
    "What does this function do? Well there are a few parts:\n",
    "- The function takes two arguments: `title` is the song's title name (for the example it was Blinding Lights) and `artist` is the name of the (first) artist that performed the song.\n",
    "- The function first modifies the inputs to remove all whitespaces and replace them with \"-\"s. **Note that inputs should only contain alphanumeric characters (no ',! etc).**\n",
    "- The function then creates a `None` type object as a placeholder for the lyrics div in the HTML. One annoying thing about genius.com is that it uses cookies and cache to generate different versions of the same webpage. You need to repeatedly open the url to be able to get the right div, otherwise it doesn't return the right object.\n",
    "- Then the function loops over opening the url again and again and parsing it through BeautifulSoup. The loop continues until the `lyrics_div` gets a 'hit' in the sense that BS is able to find the appropriate holder for the lyrics.\n",
    "- The function then gets the text from `lyrics_div` and then finishes up cleaning the text as above. It then spits out the lyrics.\n",
    "\n",
    "To try it out, let's check what happens when we use the function to get the lyrics for Blinding Lights by The Weeknd!"
   ]
  },
  {
   "cell_type": "code",
   "execution_count": 11,
   "metadata": {},
   "outputs": [
    {
     "name": "stdout",
     "output_type": "stream",
     "text": [
      "Yeah; I've been tryna call; I've been on my own for long enough; Maybe you can show me how to love, maybe; I'm going through withdrawals; You don't even have to do too much; You can turn me on with just a touch, baby; I look around and; Sin City's cold and empty ; No one's around to judge me ; I can't see clearly when you're gone; I said, ooh, I'm blinded by the lights; No, I can't sleep until I feel your touch; I said, ooh, I'm drowning in the night; Oh, when I'm like this, you're the one I trust; Hey, hey, hey; I'm running out of time; 'Cause I can see the sun light up the sky; So I hit the road in overdrive, baby, oh; The city's cold and empty ; No one's around to judge me ; I can't see clearly when you're gone; I said, ooh, I'm blinded by the lights; No, I can't sleep until I feel your touch; I said, ooh, I'm drowning in the night; Oh, when I'm like this, you're the one I trust; I'm just calling back to let you know ; I could never say it on the phone ; Will never let you go this time ; I said, ooh, I'm blinded by the lights; No, I can't sleep until I feel your touch; Hey, hey, hey; Hey, hey, hey; I said, ooh, I'm blinded by the lights; No, I can't sleep until I feel your touch\n"
     ]
    }
   ],
   "source": [
    "print(get_lyrics('Blinding Lights', 'The Weeknd'))"
   ]
  },
  {
   "cell_type": "markdown",
   "metadata": {},
   "source": [
    "IT WORKS!!!! We can play around with a bunch of songs and artists, so long as the inputs are appropriate and don't contain any punctuations. Let's try some more examples!"
   ]
  },
  {
   "cell_type": "markdown",
   "metadata": {},
   "source": [
    "**Tik Tok by Kesha**"
   ]
  },
  {
   "cell_type": "code",
   "execution_count": 12,
   "metadata": {},
   "outputs": [
    {
     "name": "stdout",
     "output_type": "stream",
     "text": [
      "Wake up in the morning feelin' like P. Diddy ; Grab my glasses, I'm out the door, I'm gonna hit this city ; Before I leave, brush my teeth with a bottle of Jack; 'Cause when I leave for the night, I ain't coming back; I'm talkin' pedicure on our toes, toes; Tryin' on all our clothes, clothes; Boys blowin' up our phones, phones; Drop-toppin', playin' our favorite CDs; Pullin' up to the parties; Tryna get a little bit tipsy; Don't stop, make it pop; DJ, blow my speakers up; Tonight, I'ma fight; Till we see the sunlight; Tick tock on the clock; But the party don't stop, no; Oh, whoa, whoa, oh; Oh, whoa, whoa, oh; Don't stop, make it pop; DJ, blow my speakers up; Tonight, I'ma fight; Till we see the sunlight; Tick tock on the clock; But the party don't stop, no; Oh, whoa, whoa, oh; Oh, whoa, whoa, oh; Ain't got a care in the world, but got plenty of beer; Ain't got no money in my pocket, but I'm already here; And now the dudes are linin' up 'cause they hear we got swagger; But we kick 'em to the curb unless they look like Mick Jagger; I'm talkin' about errbody gettin' crunk, crunk; Boys try to touch my junk, junk; Gonna smack him if he gettin' too drunk, drunk; Now, now we go until they kick us out, out; Or the police shut us down, down; Police shut us down, down; Po-po shut us down; Don't stop, make it pop; DJ, blow my speakers up; Tonight, I'ma fight; Till we see the sunlight; Tick tock on the clock; But the party don't stop, no; Oh, whoa, whoa, oh; Oh, whoa, whoa, oh; Don't stop, make it pop; DJ, blow my speakers up; Tonight, I'ma fight; Till we see the sunlight; Tick tock on the clock; But the party don't stop, no; Oh, whoa, whoa, oh; Oh, whoa, whoa, oh;  You build me up, you break me down; My heart, it pounds, yeah, you got me; With my hands up, you got me now; You got that sound, yeah, you got me;  You build me up, you break me down; My heart, it pounds, yeah, you got me; With my hands up, put your hands up; Put your hands up; Now, the party don't start till I walk in; Don't stop, make it pop; DJ, blow my speakers up; Tonight, I'ma fight; Till we see the sunlight; Tick tock on the clock; But the party don't stop, no; Oh, whoa, whoa, oh; Oh, whoa, whoa, oh; Don't stop, make it pop; DJ, blow my speakers up; Tonight, I'ma fight; Till we see the sunlight; Tick tock on the clock; But the party don't stop, no; Oh, whoa, whoa, oh; Oh, whoa, whoa, oh\n"
     ]
    }
   ],
   "source": [
    "print(get_lyrics('Tik Tok', 'Kesha'))"
   ]
  },
  {
   "cell_type": "markdown",
   "metadata": {},
   "source": [
    "**Hall of Fame by The Script**"
   ]
  },
  {
   "cell_type": "code",
   "execution_count": 13,
   "metadata": {},
   "outputs": [
    {
     "name": "stdout",
     "output_type": "stream",
     "text": [
      "Yeah, you can be the greatest, you can be the best; You can be the King Kong bangin' on your chest; You can beat the world, you can beat the war; You can talk to God, go bangin' on his door; You can throw your hands up, you can beat the clock ; You can move a mountain, you can break rocks; You can be a master, don’t wait for luck; Dedicate yourself and you gon' find yourself; Standin' in the Hall of Fame ; And the world’s gonna know your name ; ‘Cause you burn with the brightest flame ; And the world’s gonna know your name ; And you’ll be on the walls of the Hall of Fame; You can go the distance, you can run the mile; You can walk straight through hell with a smile; You can be the hero, you can get the gold; Breakin' all the records they thought never could be broke, yeah; Do it for your people, do it for your pride; How are you ever gonna know if you never even try?; Do it for your country, do it for your name; ‘Cause there's gon' be a day, when you're; Standin' in the Hall of Fame ; And the world’s gonna know your name ; ‘Cause you burn with the brightest flame ; And the world’s gonna know your name ; And you’ll be on the walls of the Hall of Fame; Be a champion; Be a champion; Be a champion; Be a champion; And you’ll be on the walls of the Hall of Fame; Be students, be teachers; Be politicians, be preachers; Yeah; Be believers, be leaders; Be astronauts, be champions; Be truth-seekers; Be students, be teachers; Be politicians, be preachers; Yeah; Be believers, be leaders; Be astronauts, be champions; Standin' in the Hall of Fame ; And the world’s gonna know your name ; ‘Cause you burn with the brightest flame ; And the world’s gonna know your name ; And you’ll be on the walls of the Hall of Fame; You can be the greatest, you can be the best; You can be the King Kong bangin' on your chest; You can beat the world, you can beat the war; You can talk to God, go bangin' on his door; You can throw your hands up, you can beat the clock; You can move a mountain, you can break rocks; You can be a master, don’t wait for luck; Dedicate yourself and you gon' find yourself; Standing in the Hall of Fame…\n"
     ]
    }
   ],
   "source": [
    "print(get_lyrics('Hall of Fame', 'The Script'))"
   ]
  },
  {
   "cell_type": "markdown",
   "metadata": {},
   "source": [
    "**Thnks fr th mmrs by Fall Out Boy**"
   ]
  },
  {
   "cell_type": "code",
   "execution_count": 14,
   "metadata": {},
   "outputs": [
    {
     "name": "stdout",
     "output_type": "stream",
     "text": [
      "I'm going to make it bend and break;  Say a prayer, but let the; Good times roll, in case God doesn't show; And I want these words to make things right; But it's the wrongs that make the words come to life; \"Who does he think he is?\" If that's the worst you've got; Better put your fingers back to the keys...; One night and one more time; Thanks for the memories, even though they weren't so great; \"He tastes like you; Only sweeter\"; One night, yeah, and one more time; Thanks for the memories, thanks for the memories; \"See, he tastes like you; Only sweeter\"; Been looking forward to the future; But my eyesight is going bad; And this crystal; Ball...; It's always cloudy except for ; When you look into the past ; One night stand...; One night stand off!; One night and one more time; Thanks for the memories, even though they weren't so great; \"He tastes like you; Only sweeter\"; One night, yeah, and one more time; Thanks for the memories, thanks for the memories; \"See, he tastes like you; Only sweeter\"; They say I only think in the form of crunching numbers; In hotel rooms, collecting page six lovers; Get me out of my mind and get you out of those clothes; I'm a liner away from getting you into the mood, whoa; One night and one more time; Thanks for the memories, even though they weren't so great; \"He tastes like you; Only sweeter,\" whoa; One night and one more time; Thanks for the memories, thanks for the memories; \"See, he tastes like you; Only sweeter\"; One night and one more time ; Thanks for the memories, even though they weren't so great; \"He tastes like you; Only sweeter\"; One night and one more time ; Thanks for the memories, thanks for the memories;  \"See, he tastes like you; Only sweeter,\" whoa...\n"
     ]
    }
   ],
   "source": [
    "print(get_lyrics('Thnks fr th Mmrs', 'Fall Out Boy'))"
   ]
  },
  {
   "cell_type": "markdown",
   "metadata": {},
   "source": [
    "**Thank U, Next by Ariana Grande**"
   ]
  },
  {
   "cell_type": "code",
   "execution_count": 15,
   "metadata": {},
   "outputs": [
    {
     "name": "stdout",
     "output_type": "stream",
     "text": [
      "Thought I'd end up with Sean; But he wasn't a match; Wrote some songs about Ricky; Now I listen and laugh; Even almost got married; And for Pete, I'm so thankful; Wish I could say, \"Thank you\" to Malcolm; 'Cause he was an angel; One taught me love; One taught me patience; And one taught me pain; Now, I'm so amazing; Say I've loved and I've lost; But that's not what I see; So, look what I got; Look what you taught me; And for that, I say; Thank you, next ; Thank you, next ; Thank you, next; I'm so fuckin' grateful for my ex; Thank you, next ; Thank you, next ; Thank you, next ; I'm so fuckin'—; Spend more time with my friends; I ain't worried 'bout nothin'; Plus, I met someone else; We havin' better discussions; I know they say I move on too fast; But this one gon' last; 'Cause her name is Ari; And I'm so good with that ; She taught me love ; She taught me patience ; How she handles pain ; That shit's amazing ; I've loved and I've lost ; But that's not what I see ; 'Cause look what I've found ; Ain't no need for searching, and for that, I say; Thank you, next ; Thank you, next ; Thank you, next ; I'm so fuckin' grateful for my ex; Thank you, next ; Thank you, next ; Thank you, next ; I'm so fuckin' grateful for my ex; Thank you, next; Thank you, next; Thank you, next; I'm so fuckin'—; One day I'll walk down the aisle; Holding hands with my mama; I'll be thanking my dad; 'Cause she grew from the drama; Only wanna do it once, real bad; Gon' make that shit last; God forbid something happens; Least this song is a smash ; I've got so much love ; Got so much patience ; And I've learned from the pain ; I turned out amazing ; Say I've loved and I've lost ; But that's not what I see ; 'Cause look what I've found ; Ain't no need for searching; And for that, I say; Thank you, next ; Thank you, next ; Thank you, next; I'm so fuckin' grateful for my ex; Thank you, next ; Thank you, next ; Thank you, next ; I'm so fuckin' grateful for my ex; Thank you, next; Thank you, next; Thank you, next; Yeah, yee; Thank you, next; Thank you, next; Thank you, next; Yeah, yee\n"
     ]
    }
   ],
   "source": [
    "print(get_lyrics('Thank U Next', 'Ariana Grande'))"
   ]
  },
  {
   "cell_type": "markdown",
   "metadata": {},
   "source": [
    "\n",
    "Created by Mir Adnan Mahmood, PhD. Candidate (Economics), The Ohio State University."
   ]
  },
  {
   "cell_type": "code",
   "execution_count": null,
   "metadata": {},
   "outputs": [],
   "source": []
  }
 ],
 "metadata": {
  "kernelspec": {
   "display_name": "Python 3",
   "language": "python",
   "name": "python3"
  },
  "language_info": {
   "codemirror_mode": {
    "name": "ipython",
    "version": 3
   },
   "file_extension": ".py",
   "mimetype": "text/x-python",
   "name": "python",
   "nbconvert_exporter": "python",
   "pygments_lexer": "ipython3",
   "version": "3.6.9"
  }
 },
 "nbformat": 4,
 "nbformat_minor": 4
}
